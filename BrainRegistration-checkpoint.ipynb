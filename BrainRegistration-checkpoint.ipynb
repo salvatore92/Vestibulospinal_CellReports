{
 "cells": [
  {
   "cell_type": "code",
   "execution_count": 15,
   "id": "0b695ce3",
   "metadata": {},
   "outputs": [
    {
     "data": {
      "text/html": [
       "<pre style=\"white-space:pre;overflow-x:auto;line-height:normal;font-family:Menlo,'DejaVu Sans Mono',consolas,'Courier New',monospace\">╭───────────────────────────────── Brainglobe Atlases ─────────────────────────────────╮\n",
       "│ <span style=\"color: #008000; text-decoration-color: #008000; font-weight: bold\">                                                                          Latest    </span> │\n",
       "│ <span style=\"color: #008000; text-decoration-color: #008000; font-weight: bold\"> Name                              Downloaded  Updated  Local version    version    </span> │\n",
       "│  <span style=\"font-weight: bold\">example_mouse_100um</span>                                                       <span style=\"color: #c4c4c4; text-decoration-color: #c4c4c4\">1.2</span>       │\n",
       "│  <span style=\"font-weight: bold\">allen_mouse_10um</span>                                                          <span style=\"color: #c4c4c4; text-decoration-color: #c4c4c4\">1.2</span>       │\n",
       "│  <span style=\"font-weight: bold\">allen_mouse_25um</span>                                                          <span style=\"color: #c4c4c4; text-decoration-color: #c4c4c4\">1.2</span>       │\n",
       "│  <span style=\"font-weight: bold\">allen_mouse_50um</span>                                                          <span style=\"color: #c4c4c4; text-decoration-color: #c4c4c4\">1.2</span>       │\n",
       "│  <span style=\"font-weight: bold\">allen_mouse_100um</span>                                                         <span style=\"color: #c4c4c4; text-decoration-color: #c4c4c4\">1.2</span>       │\n",
       "│  <span style=\"font-weight: bold\">mpin_zfish_1um</span>                                                            <span style=\"color: #c4c4c4; text-decoration-color: #c4c4c4\">1.0</span>       │\n",
       "│  <span style=\"font-weight: bold\">allen_human_500um</span>                                                         <span style=\"color: #c4c4c4; text-decoration-color: #c4c4c4\">1.0</span>       │\n",
       "│  <span style=\"font-weight: bold\">kim_mouse_10um</span>                                                            <span style=\"color: #c4c4c4; text-decoration-color: #c4c4c4\">1.1</span>       │\n",
       "│  <span style=\"font-weight: bold\">kim_mouse_25um</span>                                                            <span style=\"color: #c4c4c4; text-decoration-color: #c4c4c4\">1.1</span>       │\n",
       "│  <span style=\"font-weight: bold\">kim_mouse_50um</span>                                                            <span style=\"color: #c4c4c4; text-decoration-color: #c4c4c4\">1.1</span>       │\n",
       "│  <span style=\"font-weight: bold\">kim_mouse_100um</span>                                                           <span style=\"color: #c4c4c4; text-decoration-color: #c4c4c4\">1.1</span>       │\n",
       "│  <span style=\"font-weight: bold\">osten_mouse_10um</span>                                                          <span style=\"color: #c4c4c4; text-decoration-color: #c4c4c4\">1.1</span>       │\n",
       "│  <span style=\"font-weight: bold\">osten_mouse_25um</span>                                                          <span style=\"color: #c4c4c4; text-decoration-color: #c4c4c4\">1.1</span>       │\n",
       "│  <span style=\"font-weight: bold\">osten_mouse_50um</span>                                                          <span style=\"color: #c4c4c4; text-decoration-color: #c4c4c4\">1.1</span>       │\n",
       "│  <span style=\"font-weight: bold\">osten_mouse_100um</span>                                                         <span style=\"color: #c4c4c4; text-decoration-color: #c4c4c4\">1.1</span>       │\n",
       "│  <span style=\"font-weight: bold\">allen_cord_20um</span>                                                           <span style=\"color: #c4c4c4; text-decoration-color: #c4c4c4\">1.1</span>       │\n",
       "│  <span style=\"font-weight: bold\">azba_zfish_4um</span>                                                            <span style=\"color: #c4c4c4; text-decoration-color: #c4c4c4\">1.2</span>       │\n",
       "│  <span style=\"font-weight: bold\">whs_sd_rat_39um</span>                                                           <span style=\"color: #c4c4c4; text-decoration-color: #c4c4c4\">1.2</span>       │\n",
       "│  <span style=\"font-weight: bold\">perens_lsfm_mouse_20um</span>                                                    <span style=\"color: #c4c4c4; text-decoration-color: #c4c4c4\">1.2</span>       │\n",
       "│  <span style=\"font-weight: bold\">admba_3d_e11_5_mouse_16um</span>                                                 <span style=\"color: #c4c4c4; text-decoration-color: #c4c4c4\">1.1</span>       │\n",
       "│  <span style=\"font-weight: bold\">admba_3d_e13_5_mouse_16um</span>                                                 <span style=\"color: #c4c4c4; text-decoration-color: #c4c4c4\">1.1</span>       │\n",
       "│  <span style=\"font-weight: bold\">admba_3d_e15_5_mouse_16um</span>                                                 <span style=\"color: #c4c4c4; text-decoration-color: #c4c4c4\">1.1</span>       │\n",
       "│  <span style=\"font-weight: bold\">admba_3d_e18_5_mouse_16um</span>                                                 <span style=\"color: #c4c4c4; text-decoration-color: #c4c4c4\">1.1</span>       │\n",
       "│  <span style=\"font-weight: bold\">admba_3d_p4_mouse_16.752um</span>                                                <span style=\"color: #c4c4c4; text-decoration-color: #c4c4c4\">1.1</span>       │\n",
       "│  <span style=\"font-weight: bold\">admba_3d_p14_mouse_16.752um</span>                                               <span style=\"color: #c4c4c4; text-decoration-color: #c4c4c4\">1.1</span>       │\n",
       "│  <span style=\"font-weight: bold\">admba_3d_p28_mouse_16.752um</span>                                               <span style=\"color: #c4c4c4; text-decoration-color: #c4c4c4\">1.1</span>       │\n",
       "│  <span style=\"font-weight: bold\">admba_3d_p56_mouse_25um</span>                                                   <span style=\"color: #c4c4c4; text-decoration-color: #c4c4c4\">1.1</span>       │\n",
       "│  <span style=\"font-weight: bold\">princeton_mouse_20um</span>                                                      <span style=\"color: #c4c4c4; text-decoration-color: #c4c4c4\">1.1</span>       │\n",
       "│  <span style=\"font-weight: bold\">kim_dev_mouse_e11-5_lsfm_20um</span>                                             <span style=\"color: #c4c4c4; text-decoration-color: #c4c4c4\">1.3</span>       │\n",
       "│  <span style=\"font-weight: bold\">kim_dev_mouse_e11-5_mri-adc_31.…</span>                                          <span style=\"color: #c4c4c4; text-decoration-color: #c4c4c4\">1.3</span>       │\n",
       "│  <span style=\"font-weight: bold\">kim_dev_mouse_e11-5_mri-dwi_31.…</span>                                          <span style=\"color: #c4c4c4; text-decoration-color: #c4c4c4\">1.3</span>       │\n",
       "│  <span style=\"font-weight: bold\">kim_dev_mouse_e11-5_mri-fa_31.5…</span>                                          <span style=\"color: #c4c4c4; text-decoration-color: #c4c4c4\">1.3</span>       │\n",
       "│  <span style=\"font-weight: bold\">kim_dev_mouse_e11-5_mri-t2_31.5…</span>                                          <span style=\"color: #c4c4c4; text-decoration-color: #c4c4c4\">1.3</span>       │\n",
       "│  <span style=\"font-weight: bold\">kim_dev_mouse_e13-5_lsfm_20um</span>                                             <span style=\"color: #c4c4c4; text-decoration-color: #c4c4c4\">1.3</span>       │\n",
       "│  <span style=\"font-weight: bold\">kim_dev_mouse_e13-5_mri-adc_34um</span>                                          <span style=\"color: #c4c4c4; text-decoration-color: #c4c4c4\">1.3</span>       │\n",
       "│  <span style=\"font-weight: bold\">kim_dev_mouse_e13-5_mri-dwi_34um</span>                                          <span style=\"color: #c4c4c4; text-decoration-color: #c4c4c4\">1.3</span>       │\n",
       "│  <span style=\"font-weight: bold\">kim_dev_mouse_e13-5_mri-fa_34um</span>                                           <span style=\"color: #c4c4c4; text-decoration-color: #c4c4c4\">1.3</span>       │\n",
       "│  <span style=\"font-weight: bold\">kim_dev_mouse_e13-5_mri-t2_34um</span>                                           <span style=\"color: #c4c4c4; text-decoration-color: #c4c4c4\">1.3</span>       │\n",
       "│  <span style=\"font-weight: bold\">kim_dev_mouse_e15-5_lsfm_20um</span>                                             <span style=\"color: #c4c4c4; text-decoration-color: #c4c4c4\">1.3</span>       │\n",
       "│  <span style=\"font-weight: bold\">kim_dev_mouse_e15-5_mri-adc_37.…</span>                                          <span style=\"color: #c4c4c4; text-decoration-color: #c4c4c4\">1.3</span>       │\n",
       "│  <span style=\"font-weight: bold\">kim_dev_mouse_e15-5_mri-dwi_37.…</span>                                          <span style=\"color: #c4c4c4; text-decoration-color: #c4c4c4\">1.3</span>       │\n",
       "│  <span style=\"font-weight: bold\">kim_dev_mouse_e15-5_mri-fa_37.5…</span>                                          <span style=\"color: #c4c4c4; text-decoration-color: #c4c4c4\">1.3</span>       │\n",
       "│  <span style=\"font-weight: bold\">kim_dev_mouse_e15-5_mri-mtr_37.…</span>                                          <span style=\"color: #c4c4c4; text-decoration-color: #c4c4c4\">1.3</span>       │\n",
       "│  <span style=\"font-weight: bold\">kim_dev_mouse_e15-5_mri-t2_37.5…</span>                                          <span style=\"color: #c4c4c4; text-decoration-color: #c4c4c4\">1.3</span>       │\n",
       "│  <span style=\"font-weight: bold\">kim_dev_mouse_e18-5_lsfm_20um</span>                                             <span style=\"color: #c4c4c4; text-decoration-color: #c4c4c4\">1.3</span>       │\n",
       "│  <span style=\"font-weight: bold\">kim_dev_mouse_e18-5_mri-adc_40um</span>                                          <span style=\"color: #c4c4c4; text-decoration-color: #c4c4c4\">1.3</span>       │\n",
       "│  <span style=\"font-weight: bold\">kim_dev_mouse_e18-5_mri-dwi_40um</span>                                          <span style=\"color: #c4c4c4; text-decoration-color: #c4c4c4\">1.3</span>       │\n",
       "│  <span style=\"font-weight: bold\">kim_dev_mouse_e18-5_mri-fa_40um</span>                                           <span style=\"color: #c4c4c4; text-decoration-color: #c4c4c4\">1.3</span>       │\n",
       "│  <span style=\"font-weight: bold\">kim_dev_mouse_e18-5_mri-t2_40um</span>                                           <span style=\"color: #c4c4c4; text-decoration-color: #c4c4c4\">1.3</span>       │\n",
       "│  <span style=\"font-weight: bold\">kim_dev_mouse_p04_lsfm_20um</span>                                               <span style=\"color: #c4c4c4; text-decoration-color: #c4c4c4\">1.3</span>       │\n",
       "│  <span style=\"font-weight: bold\">kim_dev_mouse_p04_mri-adc_50um</span>                                            <span style=\"color: #c4c4c4; text-decoration-color: #c4c4c4\">1.3</span>       │\n",
       "│  <span style=\"font-weight: bold\">kim_dev_mouse_p04_mri-dwi_50um</span>                                            <span style=\"color: #c4c4c4; text-decoration-color: #c4c4c4\">1.3</span>       │\n",
       "│  <span style=\"font-weight: bold\">kim_dev_mouse_p04_mri-fa_50um</span>                                             <span style=\"color: #c4c4c4; text-decoration-color: #c4c4c4\">1.3</span>       │\n",
       "│  <span style=\"font-weight: bold\">kim_dev_mouse_p04_mri-mtr_50um</span>                                            <span style=\"color: #c4c4c4; text-decoration-color: #c4c4c4\">1.3</span>       │\n",
       "│  <span style=\"font-weight: bold\">kim_dev_mouse_p04_mri-t2_50um</span>                                             <span style=\"color: #c4c4c4; text-decoration-color: #c4c4c4\">1.3</span>       │\n",
       "│  <span style=\"font-weight: bold\">kim_dev_mouse_p14_lsfm_20um</span>                                               <span style=\"color: #c4c4c4; text-decoration-color: #c4c4c4\">1.3</span>       │\n",
       "│  <span style=\"font-weight: bold\">kim_dev_mouse_p14_mri-adc_50um</span>                                            <span style=\"color: #c4c4c4; text-decoration-color: #c4c4c4\">1.3</span>       │\n",
       "│  <span style=\"font-weight: bold\">kim_dev_mouse_p14_mri-dwi_50um</span>                                            <span style=\"color: #c4c4c4; text-decoration-color: #c4c4c4\">1.3</span>       │\n",
       "│  <span style=\"font-weight: bold\">kim_dev_mouse_p14_mri-fa_50um</span>                                             <span style=\"color: #c4c4c4; text-decoration-color: #c4c4c4\">1.3</span>       │\n",
       "│  <span style=\"font-weight: bold\">kim_dev_mouse_p14_mri-mtr_50um</span>                                            <span style=\"color: #c4c4c4; text-decoration-color: #c4c4c4\">1.3</span>       │\n",
       "│  <span style=\"font-weight: bold\">kim_dev_mouse_p14_mri-t2_50um</span>                                             <span style=\"color: #c4c4c4; text-decoration-color: #c4c4c4\">1.3</span>       │\n",
       "│  <span style=\"font-weight: bold\">kim_dev_mouse_p56_lsfm_20um</span>                                               <span style=\"color: #c4c4c4; text-decoration-color: #c4c4c4\">1.3</span>       │\n",
       "│  <span style=\"font-weight: bold\">kim_dev_mouse_p56_mri-adc_50um</span>                                            <span style=\"color: #c4c4c4; text-decoration-color: #c4c4c4\">1.3</span>       │\n",
       "│  <span style=\"font-weight: bold\">kim_dev_mouse_p56_mri-dwi_50um</span>                                            <span style=\"color: #c4c4c4; text-decoration-color: #c4c4c4\">1.3</span>       │\n",
       "│  <span style=\"font-weight: bold\">kim_dev_mouse_p56_mri-fa_50um</span>                                             <span style=\"color: #c4c4c4; text-decoration-color: #c4c4c4\">1.3</span>       │\n",
       "│  <span style=\"font-weight: bold\">kim_dev_mouse_p56_mri-t2_50um</span>                                             <span style=\"color: #c4c4c4; text-decoration-color: #c4c4c4\">1.3</span>       │\n",
       "│  <span style=\"font-weight: bold\">kim_dev_mouse_stp_10um</span>                                                    <span style=\"color: #c4c4c4; text-decoration-color: #c4c4c4\">1.2</span>       │\n",
       "│  <span style=\"font-weight: bold\">kim_dev_mouse_idisco_10um</span>                                                 <span style=\"color: #c4c4c4; text-decoration-color: #c4c4c4\">1.2</span>       │\n",
       "│  <span style=\"font-weight: bold\">kim_dev_mouse_mri_a0_10um</span>                                                 <span style=\"color: #c4c4c4; text-decoration-color: #c4c4c4\">1.2</span>       │\n",
       "│  <span style=\"font-weight: bold\">kim_dev_mouse_mri_adc_10um</span>                                                <span style=\"color: #c4c4c4; text-decoration-color: #c4c4c4\">1.2</span>       │\n",
       "│  <span style=\"font-weight: bold\">kim_dev_mouse_mri_dwi_10um</span>                                                <span style=\"color: #c4c4c4; text-decoration-color: #c4c4c4\">1.2</span>       │\n",
       "│  <span style=\"font-weight: bold\">kim_dev_mouse_mri_fa_10um</span>                                                 <span style=\"color: #c4c4c4; text-decoration-color: #c4c4c4\">1.2</span>       │\n",
       "│  <span style=\"font-weight: bold\">kim_dev_mouse_mri_mtr_10um</span>                                                <span style=\"color: #c4c4c4; text-decoration-color: #c4c4c4\">1.2</span>       │\n",
       "│  <span style=\"font-weight: bold\">kim_dev_mouse_mri_t2_10um</span>                                                 <span style=\"color: #c4c4c4; text-decoration-color: #c4c4c4\">1.2</span>       │\n",
       "│  <span style=\"font-weight: bold\">sju_cavefish_2um</span>                                                          <span style=\"color: #c4c4c4; text-decoration-color: #c4c4c4\">1.0</span>       │\n",
       "│  <span style=\"font-weight: bold\">allen_mouse_bluebrain_barrels_1…</span>                                          <span style=\"color: #c4c4c4; text-decoration-color: #c4c4c4\">1.0</span>       │\n",
       "│  <span style=\"font-weight: bold\">allen_mouse_bluebrain_barrels_2…</span>                                          <span style=\"color: #c4c4c4; text-decoration-color: #c4c4c4\">1.0</span>       │\n",
       "│  <span style=\"font-weight: bold\">unam_axolotl_40um</span>                                                         <span style=\"color: #c4c4c4; text-decoration-color: #c4c4c4\">1.1</span>       │\n",
       "│  <span style=\"font-weight: bold\">prairie_vole_25um</span>                                                         <span style=\"color: #c4c4c4; text-decoration-color: #c4c4c4\">1.0</span>       │\n",
       "│  <span style=\"font-weight: bold\">eurasian_blackcap_25um</span>                                                    <span style=\"color: #c4c4c4; text-decoration-color: #c4c4c4\">1.2</span>       │\n",
       "│  <span style=\"font-weight: bold\">perens_stereotaxic_mri_mouse_25…</span>                                          <span style=\"color: #c4c4c4; text-decoration-color: #c4c4c4\">1.0</span>       │\n",
       "│  <span style=\"font-weight: bold\">perens_multimodal_lsfm_25um</span>                                               <span style=\"color: #c4c4c4; text-decoration-color: #c4c4c4\">1.0</span>       │\n",
       "│  <span style=\"font-weight: bold\">nadkarni_mri_mouselemur_91um</span>                                              <span style=\"color: #c4c4c4; text-decoration-color: #c4c4c4\">1.1</span>       │\n",
       "│  <span style=\"font-weight: bold\">australian_mouse_15um</span>                                                     <span style=\"color: #c4c4c4; text-decoration-color: #c4c4c4\">1.0</span>       │\n",
       "│  <span style=\"font-weight: bold\">csl_cat_500um</span>                                                             <span style=\"color: #c4c4c4; text-decoration-color: #c4c4c4\">1.0</span>       │\n",
       "╰──────────────────────────────────────────────────────────────────────────────────────╯\n",
       "</pre>\n"
      ],
      "text/plain": [
       "╭───────────────────────────────── Brainglobe Atlases ─────────────────────────────────╮\n",
       "│ \u001b[1;32m                                  \u001b[0m\u001b[1;32m            \u001b[0m\u001b[1;32m         \u001b[0m\u001b[1;32m               \u001b[0m\u001b[1;32m \u001b[0m\u001b[1;32m   Latest   \u001b[0m\u001b[1;32m \u001b[0m │\n",
       "│ \u001b[1;32m \u001b[0m\u001b[1;32mName                            \u001b[0m\u001b[1;32m \u001b[0m\u001b[1;32m \u001b[0m\u001b[1;32mDownloaded\u001b[0m\u001b[1;32m \u001b[0m\u001b[1;32m \u001b[0m\u001b[1;32mUpdated\u001b[0m\u001b[1;32m \u001b[0m\u001b[1;32m \u001b[0m\u001b[1;32mLocal version\u001b[0m\u001b[1;32m \u001b[0m\u001b[1;32m \u001b[0m\u001b[1;32m  version   \u001b[0m\u001b[1;32m \u001b[0m │\n",
       "│  \u001b[1mexample_mouse_100um\u001b[0m                                                       \u001b[38;2;196;196;196m1.2\u001b[0m       │\n",
       "│  \u001b[1mallen_mouse_10um\u001b[0m                                                          \u001b[38;2;196;196;196m1.2\u001b[0m       │\n",
       "│  \u001b[1mallen_mouse_25um\u001b[0m                                                          \u001b[38;2;196;196;196m1.2\u001b[0m       │\n",
       "│  \u001b[1mallen_mouse_50um\u001b[0m                                                          \u001b[38;2;196;196;196m1.2\u001b[0m       │\n",
       "│  \u001b[1mallen_mouse_100um\u001b[0m                                                         \u001b[38;2;196;196;196m1.2\u001b[0m       │\n",
       "│  \u001b[1mmpin_zfish_1um\u001b[0m                                                            \u001b[38;2;196;196;196m1.0\u001b[0m       │\n",
       "│  \u001b[1mallen_human_500um\u001b[0m                                                         \u001b[38;2;196;196;196m1.0\u001b[0m       │\n",
       "│  \u001b[1mkim_mouse_10um\u001b[0m                                                            \u001b[38;2;196;196;196m1.1\u001b[0m       │\n",
       "│  \u001b[1mkim_mouse_25um\u001b[0m                                                            \u001b[38;2;196;196;196m1.1\u001b[0m       │\n",
       "│  \u001b[1mkim_mouse_50um\u001b[0m                                                            \u001b[38;2;196;196;196m1.1\u001b[0m       │\n",
       "│  \u001b[1mkim_mouse_100um\u001b[0m                                                           \u001b[38;2;196;196;196m1.1\u001b[0m       │\n",
       "│  \u001b[1mosten_mouse_10um\u001b[0m                                                          \u001b[38;2;196;196;196m1.1\u001b[0m       │\n",
       "│  \u001b[1mosten_mouse_25um\u001b[0m                                                          \u001b[38;2;196;196;196m1.1\u001b[0m       │\n",
       "│  \u001b[1mosten_mouse_50um\u001b[0m                                                          \u001b[38;2;196;196;196m1.1\u001b[0m       │\n",
       "│  \u001b[1mosten_mouse_100um\u001b[0m                                                         \u001b[38;2;196;196;196m1.1\u001b[0m       │\n",
       "│  \u001b[1mallen_cord_20um\u001b[0m                                                           \u001b[38;2;196;196;196m1.1\u001b[0m       │\n",
       "│  \u001b[1mazba_zfish_4um\u001b[0m                                                            \u001b[38;2;196;196;196m1.2\u001b[0m       │\n",
       "│  \u001b[1mwhs_sd_rat_39um\u001b[0m                                                           \u001b[38;2;196;196;196m1.2\u001b[0m       │\n",
       "│  \u001b[1mperens_lsfm_mouse_20um\u001b[0m                                                    \u001b[38;2;196;196;196m1.2\u001b[0m       │\n",
       "│  \u001b[1madmba_3d_e11_5_mouse_16um\u001b[0m                                                 \u001b[38;2;196;196;196m1.1\u001b[0m       │\n",
       "│  \u001b[1madmba_3d_e13_5_mouse_16um\u001b[0m                                                 \u001b[38;2;196;196;196m1.1\u001b[0m       │\n",
       "│  \u001b[1madmba_3d_e15_5_mouse_16um\u001b[0m                                                 \u001b[38;2;196;196;196m1.1\u001b[0m       │\n",
       "│  \u001b[1madmba_3d_e18_5_mouse_16um\u001b[0m                                                 \u001b[38;2;196;196;196m1.1\u001b[0m       │\n",
       "│  \u001b[1madmba_3d_p4_mouse_16.752um\u001b[0m                                                \u001b[38;2;196;196;196m1.1\u001b[0m       │\n",
       "│  \u001b[1madmba_3d_p14_mouse_16.752um\u001b[0m                                               \u001b[38;2;196;196;196m1.1\u001b[0m       │\n",
       "│  \u001b[1madmba_3d_p28_mouse_16.752um\u001b[0m                                               \u001b[38;2;196;196;196m1.1\u001b[0m       │\n",
       "│  \u001b[1madmba_3d_p56_mouse_25um\u001b[0m                                                   \u001b[38;2;196;196;196m1.1\u001b[0m       │\n",
       "│  \u001b[1mprinceton_mouse_20um\u001b[0m                                                      \u001b[38;2;196;196;196m1.1\u001b[0m       │\n",
       "│  \u001b[1mkim_dev_mouse_e11-5_lsfm_20um\u001b[0m                                             \u001b[38;2;196;196;196m1.3\u001b[0m       │\n",
       "│  \u001b[1mkim_dev_mouse_e11-5_mri-adc_31.…\u001b[0m                                          \u001b[38;2;196;196;196m1.3\u001b[0m       │\n",
       "│  \u001b[1mkim_dev_mouse_e11-5_mri-dwi_31.…\u001b[0m                                          \u001b[38;2;196;196;196m1.3\u001b[0m       │\n",
       "│  \u001b[1mkim_dev_mouse_e11-5_mri-fa_31.5…\u001b[0m                                          \u001b[38;2;196;196;196m1.3\u001b[0m       │\n",
       "│  \u001b[1mkim_dev_mouse_e11-5_mri-t2_31.5…\u001b[0m                                          \u001b[38;2;196;196;196m1.3\u001b[0m       │\n",
       "│  \u001b[1mkim_dev_mouse_e13-5_lsfm_20um\u001b[0m                                             \u001b[38;2;196;196;196m1.3\u001b[0m       │\n",
       "│  \u001b[1mkim_dev_mouse_e13-5_mri-adc_34um\u001b[0m                                          \u001b[38;2;196;196;196m1.3\u001b[0m       │\n",
       "│  \u001b[1mkim_dev_mouse_e13-5_mri-dwi_34um\u001b[0m                                          \u001b[38;2;196;196;196m1.3\u001b[0m       │\n",
       "│  \u001b[1mkim_dev_mouse_e13-5_mri-fa_34um\u001b[0m                                           \u001b[38;2;196;196;196m1.3\u001b[0m       │\n",
       "│  \u001b[1mkim_dev_mouse_e13-5_mri-t2_34um\u001b[0m                                           \u001b[38;2;196;196;196m1.3\u001b[0m       │\n",
       "│  \u001b[1mkim_dev_mouse_e15-5_lsfm_20um\u001b[0m                                             \u001b[38;2;196;196;196m1.3\u001b[0m       │\n",
       "│  \u001b[1mkim_dev_mouse_e15-5_mri-adc_37.…\u001b[0m                                          \u001b[38;2;196;196;196m1.3\u001b[0m       │\n",
       "│  \u001b[1mkim_dev_mouse_e15-5_mri-dwi_37.…\u001b[0m                                          \u001b[38;2;196;196;196m1.3\u001b[0m       │\n",
       "│  \u001b[1mkim_dev_mouse_e15-5_mri-fa_37.5…\u001b[0m                                          \u001b[38;2;196;196;196m1.3\u001b[0m       │\n",
       "│  \u001b[1mkim_dev_mouse_e15-5_mri-mtr_37.…\u001b[0m                                          \u001b[38;2;196;196;196m1.3\u001b[0m       │\n",
       "│  \u001b[1mkim_dev_mouse_e15-5_mri-t2_37.5…\u001b[0m                                          \u001b[38;2;196;196;196m1.3\u001b[0m       │\n",
       "│  \u001b[1mkim_dev_mouse_e18-5_lsfm_20um\u001b[0m                                             \u001b[38;2;196;196;196m1.3\u001b[0m       │\n",
       "│  \u001b[1mkim_dev_mouse_e18-5_mri-adc_40um\u001b[0m                                          \u001b[38;2;196;196;196m1.3\u001b[0m       │\n",
       "│  \u001b[1mkim_dev_mouse_e18-5_mri-dwi_40um\u001b[0m                                          \u001b[38;2;196;196;196m1.3\u001b[0m       │\n",
       "│  \u001b[1mkim_dev_mouse_e18-5_mri-fa_40um\u001b[0m                                           \u001b[38;2;196;196;196m1.3\u001b[0m       │\n",
       "│  \u001b[1mkim_dev_mouse_e18-5_mri-t2_40um\u001b[0m                                           \u001b[38;2;196;196;196m1.3\u001b[0m       │\n",
       "│  \u001b[1mkim_dev_mouse_p04_lsfm_20um\u001b[0m                                               \u001b[38;2;196;196;196m1.3\u001b[0m       │\n",
       "│  \u001b[1mkim_dev_mouse_p04_mri-adc_50um\u001b[0m                                            \u001b[38;2;196;196;196m1.3\u001b[0m       │\n",
       "│  \u001b[1mkim_dev_mouse_p04_mri-dwi_50um\u001b[0m                                            \u001b[38;2;196;196;196m1.3\u001b[0m       │\n",
       "│  \u001b[1mkim_dev_mouse_p04_mri-fa_50um\u001b[0m                                             \u001b[38;2;196;196;196m1.3\u001b[0m       │\n",
       "│  \u001b[1mkim_dev_mouse_p04_mri-mtr_50um\u001b[0m                                            \u001b[38;2;196;196;196m1.3\u001b[0m       │\n",
       "│  \u001b[1mkim_dev_mouse_p04_mri-t2_50um\u001b[0m                                             \u001b[38;2;196;196;196m1.3\u001b[0m       │\n",
       "│  \u001b[1mkim_dev_mouse_p14_lsfm_20um\u001b[0m                                               \u001b[38;2;196;196;196m1.3\u001b[0m       │\n",
       "│  \u001b[1mkim_dev_mouse_p14_mri-adc_50um\u001b[0m                                            \u001b[38;2;196;196;196m1.3\u001b[0m       │\n",
       "│  \u001b[1mkim_dev_mouse_p14_mri-dwi_50um\u001b[0m                                            \u001b[38;2;196;196;196m1.3\u001b[0m       │\n",
       "│  \u001b[1mkim_dev_mouse_p14_mri-fa_50um\u001b[0m                                             \u001b[38;2;196;196;196m1.3\u001b[0m       │\n",
       "│  \u001b[1mkim_dev_mouse_p14_mri-mtr_50um\u001b[0m                                            \u001b[38;2;196;196;196m1.3\u001b[0m       │\n",
       "│  \u001b[1mkim_dev_mouse_p14_mri-t2_50um\u001b[0m                                             \u001b[38;2;196;196;196m1.3\u001b[0m       │\n",
       "│  \u001b[1mkim_dev_mouse_p56_lsfm_20um\u001b[0m                                               \u001b[38;2;196;196;196m1.3\u001b[0m       │\n",
       "│  \u001b[1mkim_dev_mouse_p56_mri-adc_50um\u001b[0m                                            \u001b[38;2;196;196;196m1.3\u001b[0m       │\n",
       "│  \u001b[1mkim_dev_mouse_p56_mri-dwi_50um\u001b[0m                                            \u001b[38;2;196;196;196m1.3\u001b[0m       │\n",
       "│  \u001b[1mkim_dev_mouse_p56_mri-fa_50um\u001b[0m                                             \u001b[38;2;196;196;196m1.3\u001b[0m       │\n",
       "│  \u001b[1mkim_dev_mouse_p56_mri-t2_50um\u001b[0m                                             \u001b[38;2;196;196;196m1.3\u001b[0m       │\n",
       "│  \u001b[1mkim_dev_mouse_stp_10um\u001b[0m                                                    \u001b[38;2;196;196;196m1.2\u001b[0m       │\n",
       "│  \u001b[1mkim_dev_mouse_idisco_10um\u001b[0m                                                 \u001b[38;2;196;196;196m1.2\u001b[0m       │\n",
       "│  \u001b[1mkim_dev_mouse_mri_a0_10um\u001b[0m                                                 \u001b[38;2;196;196;196m1.2\u001b[0m       │\n",
       "│  \u001b[1mkim_dev_mouse_mri_adc_10um\u001b[0m                                                \u001b[38;2;196;196;196m1.2\u001b[0m       │\n",
       "│  \u001b[1mkim_dev_mouse_mri_dwi_10um\u001b[0m                                                \u001b[38;2;196;196;196m1.2\u001b[0m       │\n",
       "│  \u001b[1mkim_dev_mouse_mri_fa_10um\u001b[0m                                                 \u001b[38;2;196;196;196m1.2\u001b[0m       │\n",
       "│  \u001b[1mkim_dev_mouse_mri_mtr_10um\u001b[0m                                                \u001b[38;2;196;196;196m1.2\u001b[0m       │\n",
       "│  \u001b[1mkim_dev_mouse_mri_t2_10um\u001b[0m                                                 \u001b[38;2;196;196;196m1.2\u001b[0m       │\n",
       "│  \u001b[1msju_cavefish_2um\u001b[0m                                                          \u001b[38;2;196;196;196m1.0\u001b[0m       │\n",
       "│  \u001b[1mallen_mouse_bluebrain_barrels_1…\u001b[0m                                          \u001b[38;2;196;196;196m1.0\u001b[0m       │\n",
       "│  \u001b[1mallen_mouse_bluebrain_barrels_2…\u001b[0m                                          \u001b[38;2;196;196;196m1.0\u001b[0m       │\n",
       "│  \u001b[1munam_axolotl_40um\u001b[0m                                                         \u001b[38;2;196;196;196m1.1\u001b[0m       │\n",
       "│  \u001b[1mprairie_vole_25um\u001b[0m                                                         \u001b[38;2;196;196;196m1.0\u001b[0m       │\n",
       "│  \u001b[1meurasian_blackcap_25um\u001b[0m                                                    \u001b[38;2;196;196;196m1.2\u001b[0m       │\n",
       "│  \u001b[1mperens_stereotaxic_mri_mouse_25…\u001b[0m                                          \u001b[38;2;196;196;196m1.0\u001b[0m       │\n",
       "│  \u001b[1mperens_multimodal_lsfm_25um\u001b[0m                                               \u001b[38;2;196;196;196m1.0\u001b[0m       │\n",
       "│  \u001b[1mnadkarni_mri_mouselemur_91um\u001b[0m                                              \u001b[38;2;196;196;196m1.1\u001b[0m       │\n",
       "│  \u001b[1maustralian_mouse_15um\u001b[0m                                                     \u001b[38;2;196;196;196m1.0\u001b[0m       │\n",
       "│  \u001b[1mcsl_cat_500um\u001b[0m                                                             \u001b[38;2;196;196;196m1.0\u001b[0m       │\n",
       "╰──────────────────────────────────────────────────────────────────────────────────────╯\n"
      ]
     },
     "metadata": {},
     "output_type": "display_data"
    }
   ],
   "source": [
    "from bg_atlasapi import show_atlases\n",
    "show_atlases()"
   ]
  },
  {
   "cell_type": "code",
   "execution_count": 17,
   "id": "4c411b0a",
   "metadata": {},
   "outputs": [
    {
     "data": {
      "text/html": [
       "<pre style=\"white-space:pre;overflow-x:auto;line-height:normal;font-family:Menlo,'DejaVu Sans Mono',consolas,'Courier New',monospace\"><span style=\"color: #ff00d7; text-decoration-color: #ff00d7\">bg_atlasapi: allen_cord_20um not found locally. Downloading...</span>\n",
       "</pre>\n"
      ],
      "text/plain": [
       "\u001b[38;5;200mbg_atlasapi: allen_cord_20um not found locally. Downloading\u001b[0m\u001b[38;5;200m...\u001b[0m\n"
      ]
     },
     "metadata": {},
     "output_type": "display_data"
    },
    {
     "data": {
      "application/vnd.jupyter.widget-view+json": {
       "model_id": "6788baa1f3154c61bf5e51edc8caa18e",
       "version_major": 2,
       "version_minor": 0
      },
      "text/plain": [
       "Output()"
      ]
     },
     "metadata": {},
     "output_type": "display_data"
    },
    {
     "data": {
      "text/html": [
       "<pre style=\"white-space:pre;overflow-x:auto;line-height:normal;font-family:Menlo,'DejaVu Sans Mono',consolas,'Courier New',monospace\"></pre>\n"
      ],
      "text/plain": []
     },
     "metadata": {},
     "output_type": "display_data"
    },
    {
     "data": {
      "text/html": [
       "<pre style=\"white-space:pre;overflow-x:auto;line-height:normal;font-family:Menlo,'DejaVu Sans Mono',consolas,'Courier New',monospace\">\n",
       "</pre>\n"
      ],
      "text/plain": [
       "\n"
      ]
     },
     "metadata": {},
     "output_type": "display_data"
    }
   ],
   "source": [
    "from bg_atlasapi.bg_atlas import BrainGlobeAtlas\n",
    "atlas = BrainGlobeAtlas(\"allen_cord_20um\")"
   ]
  },
  {
   "cell_type": "code",
   "execution_count": 18,
   "id": "15105d9f-20b1-4f9d-bb75-5813eee85ca1",
   "metadata": {},
   "outputs": [],
   "source": [
    "# pip install bg_atlasapi"
   ]
  },
  {
   "cell_type": "code",
   "execution_count": 9,
   "id": "005ee62a-a8f2-4356-970b-6025f0f1c80b",
   "metadata": {},
   "outputs": [
    {
     "ename": "SyntaxError",
     "evalue": "invalid syntax (3038794891.py, line 2)",
     "output_type": "error",
     "traceback": [
      "\u001b[1;36m  Cell \u001b[1;32mIn[9], line 2\u001b[1;36m\u001b[0m\n\u001b[1;33m    pip install brainrender\u001b[0m\n\u001b[1;37m        ^\u001b[0m\n\u001b[1;31mSyntaxError\u001b[0m\u001b[1;31m:\u001b[0m invalid syntax\n"
     ]
    }
   ],
   "source": []
  },
  {
   "cell_type": "code",
   "execution_count": 4,
   "id": "d806958b",
   "metadata": {},
   "outputs": [
    {
     "name": "stdout",
     "output_type": "stream",
     "text": [
      "(1567, 253, 322)\n",
      "(1567, 253, 322)\n",
      "(1567, 253, 322)\n"
     ]
    }
   ],
   "source": [
    "# reference image\n",
    "reference_image = atlas.reference\n",
    "print(reference_image.shape)\n",
    "# (528, 320, 456)\n",
    "\n",
    "# annotation image\n",
    "annotation_image = atlas.annotation\n",
    "print(annotation_image.shape)\n",
    "# (528, 320, 456)\n",
    "\n",
    "# a hemispheres image (value 1 in left hemisphere, 2 in right) can be generated\n",
    "hemispheres_image = atlas.hemispheres\n",
    "print(hemispheres_image.shape)\n",
    "# (528, 320, 456)"
   ]
  },
  {
   "cell_type": "code",
   "execution_count": null,
   "id": "71014aad",
   "metadata": {},
   "outputs": [],
   "source": []
  },
  {
   "cell_type": "code",
   "execution_count": 5,
   "id": "2796e88f",
   "metadata": {},
   "outputs": [],
   "source": [
    "import random\n",
    "from pathlib import Path\n",
    "\n",
    "import numpy as np\n",
    "from myterial import orange\n",
    "from rich import print\n",
    "\n",
    "from brainrender import Scene\n",
    "from brainrender.actors import Points, PointsDensity\n",
    "\n",
    "# print(f\"[{orange}]Running example: {Path(__file__).name}\")\n",
    "\n",
    "\n",
    "def get_n_random_points_in_region(region, N):\n",
    "    \"\"\"\n",
    "    Gets N random points inside (or on the surface) of a mes\n",
    "    \"\"\"\n",
    "\n",
    "    region_bounds = region.mesh.bounds()\n",
    "    X = np.random.randint(region_bounds[0], region_bounds[1], size=10000)\n",
    "    Y = np.random.randint(region_bounds[2], region_bounds[3], size=10000)\n",
    "    Z = np.random.randint(region_bounds[4], region_bounds[5], size=10000)\n",
    "    pts = [[x, y, z] for x, y, z in zip(X, Y, Z)]\n",
    "\n",
    "    ipts = region.mesh.inside_points(pts).vertices\n",
    "    return np.vstack(random.choices(ipts, k=N))\n",
    "\n",
    "\n",
    "scene = Scene(title=\"Labelled cells\")\n",
    "\n",
    "# Get a numpy array with (fake) coordinates of some labelled cells\n",
    "mos = scene.add_brain_region(\"MOs\", alpha=0.0)\n",
    "coordinates = get_n_random_points_in_region(mos, 2000)\n",
    "\n",
    "# Add to scene\n",
    "scene.add(Points(coordinates, name=\"CELLS\", colors=\"salmon\"))\n",
    "scene.add(PointsDensity(coordinates))\n",
    "\n",
    "# render\n",
    "scene.render()"
   ]
  },
  {
   "cell_type": "code",
   "execution_count": 6,
   "id": "d25ffdd8",
   "metadata": {},
   "outputs": [
    {
     "name": "stdout",
     "output_type": "stream",
     "text": [
      "Requirement already satisfied: brainglobe-heatmap in c:\\users\\salvo\\anaconda3\\lib\\site-packages (0.5.2)\n",
      "Requirement already satisfied: brainrender in c:\\users\\salvo\\anaconda3\\lib\\site-packages (from brainglobe-heatmap) (2.1.6)\n",
      "Requirement already satisfied: matplotlib in c:\\users\\salvo\\anaconda3\\lib\\site-packages (from brainglobe-heatmap) (3.7.2)\n",
      "Requirement already satisfied: numpy in c:\\users\\salvo\\anaconda3\\lib\\site-packages (from brainglobe-heatmap) (1.23.5)\n",
      "Requirement already satisfied: myterial in c:\\users\\salvo\\anaconda3\\lib\\site-packages (from brainglobe-heatmap) (1.2.1)\n",
      "Requirement already satisfied: rich in c:\\users\\salvo\\anaconda3\\lib\\site-packages (from brainglobe-heatmap) (13.7.1)\n",
      "Requirement already satisfied: brainglobe-atlasapi>=2.0.1 in c:\\users\\salvo\\anaconda3\\lib\\site-packages (from brainrender->brainglobe-heatmap) (2.0.1)\n",
      "Requirement already satisfied: brainglobe-space>=1.0.0 in c:\\users\\salvo\\anaconda3\\lib\\site-packages (from brainrender->brainglobe-heatmap) (1.0.0)\n",
      "Requirement already satisfied: h5py in c:\\users\\salvo\\anaconda3\\lib\\site-packages (from brainrender->brainglobe-heatmap) (3.10.0)\n",
      "Requirement already satisfied: imio in c:\\users\\salvo\\anaconda3\\lib\\site-packages (from brainrender->brainglobe-heatmap) (0.3.1)\n",
      "Requirement already satisfied: k3d in c:\\users\\salvo\\anaconda3\\lib\\site-packages (from brainrender->brainglobe-heatmap) (2.16.1)\n",
      "Requirement already satisfied: loguru in c:\\users\\salvo\\anaconda3\\lib\\site-packages (from brainrender->brainglobe-heatmap) (0.7.2)\n",
      "Requirement already satisfied: morphapi>=0.2.1 in c:\\users\\salvo\\anaconda3\\lib\\site-packages (from brainrender->brainglobe-heatmap) (0.2.1)\n",
      "Requirement already satisfied: msgpack in c:\\users\\salvo\\anaconda3\\lib\\site-packages (from brainrender->brainglobe-heatmap) (1.0.3)\n",
      "Requirement already satisfied: pandas in c:\\users\\salvo\\appdata\\roaming\\python\\python311\\site-packages (from brainrender->brainglobe-heatmap) (1.5.3)\n",
      "Requirement already satisfied: pooch in c:\\users\\salvo\\anaconda3\\lib\\site-packages (from brainrender->brainglobe-heatmap) (1.8.1)\n",
      "Requirement already satisfied: pyinspect>=0.0.8 in c:\\users\\salvo\\anaconda3\\lib\\site-packages (from brainrender->brainglobe-heatmap) (0.1.0)\n",
      "Requirement already satisfied: pyyaml>=5.3 in c:\\users\\salvo\\anaconda3\\lib\\site-packages (from brainrender->brainglobe-heatmap) (6.0)\n",
      "Requirement already satisfied: requests in c:\\users\\salvo\\anaconda3\\lib\\site-packages (from brainrender->brainglobe-heatmap) (2.31.0)\n",
      "Requirement already satisfied: tables in c:\\users\\salvo\\anaconda3\\lib\\site-packages (from brainrender->brainglobe-heatmap) (3.8.0)\n",
      "Requirement already satisfied: vedo==2024.5.1 in c:\\users\\salvo\\anaconda3\\lib\\site-packages (from brainrender->brainglobe-heatmap) (2024.5.1)\n",
      "Requirement already satisfied: vtk in c:\\users\\salvo\\anaconda3\\lib\\site-packages (from vedo==2024.5.1->brainrender->brainglobe-heatmap) (9.3.0)\n",
      "Requirement already satisfied: Pygments in c:\\users\\salvo\\anaconda3\\lib\\site-packages (from vedo==2024.5.1->brainrender->brainglobe-heatmap) (2.15.1)\n",
      "Requirement already satisfied: contourpy>=1.0.1 in c:\\users\\salvo\\anaconda3\\lib\\site-packages (from matplotlib->brainglobe-heatmap) (1.0.5)\n",
      "Requirement already satisfied: cycler>=0.10 in c:\\users\\salvo\\anaconda3\\lib\\site-packages (from matplotlib->brainglobe-heatmap) (0.11.0)\n",
      "Requirement already satisfied: fonttools>=4.22.0 in c:\\users\\salvo\\anaconda3\\lib\\site-packages (from matplotlib->brainglobe-heatmap) (4.25.0)\n",
      "Requirement already satisfied: kiwisolver>=1.0.1 in c:\\users\\salvo\\anaconda3\\lib\\site-packages (from matplotlib->brainglobe-heatmap) (1.4.4)\n",
      "Requirement already satisfied: packaging>=20.0 in c:\\users\\salvo\\anaconda3\\lib\\site-packages (from matplotlib->brainglobe-heatmap) (23.1)\n",
      "Requirement already satisfied: pillow>=6.2.0 in c:\\users\\salvo\\anaconda3\\lib\\site-packages (from matplotlib->brainglobe-heatmap) (9.4.0)\n",
      "Requirement already satisfied: pyparsing<3.1,>=2.3.1 in c:\\users\\salvo\\anaconda3\\lib\\site-packages (from matplotlib->brainglobe-heatmap) (3.0.9)\n",
      "Requirement already satisfied: python-dateutil>=2.7 in c:\\users\\salvo\\anaconda3\\lib\\site-packages (from matplotlib->brainglobe-heatmap) (2.8.2)\n",
      "Requirement already satisfied: markdown-it-py>=2.2.0 in c:\\users\\salvo\\anaconda3\\lib\\site-packages (from rich->brainglobe-heatmap) (2.2.0)\n",
      "Requirement already satisfied: click in c:\\users\\salvo\\anaconda3\\lib\\site-packages (from brainglobe-atlasapi>=2.0.1->brainrender->brainglobe-heatmap) (8.0.4)\n",
      "Requirement already satisfied: meshio in c:\\users\\salvo\\anaconda3\\lib\\site-packages (from brainglobe-atlasapi>=2.0.1->brainrender->brainglobe-heatmap) (5.3.5)\n",
      "Requirement already satisfied: pyarrow in c:\\users\\salvo\\anaconda3\\lib\\site-packages (from brainglobe-atlasapi>=2.0.1->brainrender->brainglobe-heatmap) (11.0.0)\n",
      "Requirement already satisfied: PyMCubes in c:\\users\\salvo\\anaconda3\\lib\\site-packages (from brainglobe-atlasapi>=2.0.1->brainrender->brainglobe-heatmap) (0.1.4)\n",
      "Requirement already satisfied: SimpleITK in c:\\users\\salvo\\anaconda3\\lib\\site-packages (from brainglobe-atlasapi>=2.0.1->brainrender->brainglobe-heatmap) (2.3.1)\n",
      "Requirement already satisfied: tifffile in c:\\users\\salvo\\anaconda3\\lib\\site-packages (from brainglobe-atlasapi>=2.0.1->brainrender->brainglobe-heatmap) (2023.4.12)\n",
      "Requirement already satisfied: tqdm>=4.46.1 in c:\\users\\salvo\\anaconda3\\lib\\site-packages (from brainglobe-atlasapi>=2.0.1->brainrender->brainglobe-heatmap) (4.65.0)\n",
      "Requirement already satisfied: treelib in c:\\users\\salvo\\anaconda3\\lib\\site-packages (from brainglobe-atlasapi>=2.0.1->brainrender->brainglobe-heatmap) (1.7.0)\n",
      "Requirement already satisfied: xmltodict in c:\\users\\salvo\\anaconda3\\lib\\site-packages (from brainglobe-atlasapi>=2.0.1->brainrender->brainglobe-heatmap) (0.13.0)\n",
      "Requirement already satisfied: scipy in c:\\users\\salvo\\anaconda3\\lib\\site-packages (from brainglobe-space>=1.0.0->brainrender->brainglobe-heatmap) (1.10.1)\n",
      "Requirement already satisfied: mdurl~=0.1 in c:\\users\\salvo\\anaconda3\\lib\\site-packages (from markdown-it-py>=2.2.0->rich->brainglobe-heatmap) (0.1.0)\n",
      "Requirement already satisfied: bg-atlasapi in c:\\users\\salvo\\anaconda3\\lib\\site-packages (from morphapi>=0.2.1->brainrender->brainglobe-heatmap) (1.0.3)\n",
      "Requirement already satisfied: neurom<4,>=3 in c:\\users\\salvo\\anaconda3\\lib\\site-packages (from morphapi>=0.2.1->brainrender->brainglobe-heatmap) (3.2.8)\n",
      "Requirement already satisfied: retry in c:\\users\\salvo\\anaconda3\\lib\\site-packages (from morphapi>=0.2.1->brainrender->brainglobe-heatmap) (0.9.2)\n",
      "Requirement already satisfied: imagecodecs in c:\\users\\salvo\\anaconda3\\lib\\site-packages (from morphapi>=0.2.1->brainrender->brainglobe-heatmap) (2023.1.23)\n",
      "Requirement already satisfied: google in c:\\users\\salvo\\anaconda3\\lib\\site-packages (from pyinspect>=0.0.8->brainrender->brainglobe-heatmap) (3.0.0)\n",
      "Requirement already satisfied: bs4 in c:\\users\\salvo\\anaconda3\\lib\\site-packages (from pyinspect>=0.0.8->brainrender->brainglobe-heatmap) (0.0.2)\n",
      "Requirement already satisfied: six>=1.5 in c:\\users\\salvo\\anaconda3\\lib\\site-packages (from python-dateutil>=2.7->matplotlib->brainglobe-heatmap) (1.16.0)\n",
      "Requirement already satisfied: brainglobe-utils[slurmio] in c:\\users\\salvo\\anaconda3\\lib\\site-packages (from imio->brainrender->brainglobe-heatmap) (0.4.1)\n",
      "Requirement already satisfied: natsort in c:\\users\\salvo\\anaconda3\\lib\\site-packages (from imio->brainrender->brainglobe-heatmap) (8.4.0)\n",
      "Requirement already satisfied: nibabel in c:\\users\\salvo\\anaconda3\\lib\\site-packages (from imio->brainrender->brainglobe-heatmap) (5.2.1)\n",
      "Requirement already satisfied: psutil in c:\\users\\salvo\\anaconda3\\lib\\site-packages (from imio->brainrender->brainglobe-heatmap) (5.9.0)\n",
      "Requirement already satisfied: pynrrd in c:\\users\\salvo\\anaconda3\\lib\\site-packages (from imio->brainrender->brainglobe-heatmap) (1.0.0)\n",
      "Requirement already satisfied: scikit-image in c:\\users\\salvo\\anaconda3\\lib\\site-packages (from imio->brainrender->brainglobe-heatmap) (0.20.0)\n",
      "Requirement already satisfied: ipywidgets<9.0.0,>=7.0.0 in c:\\users\\salvo\\anaconda3\\lib\\site-packages (from k3d->brainrender->brainglobe-heatmap) (8.0.4)\n",
      "Requirement already satisfied: traitlets in c:\\users\\salvo\\anaconda3\\lib\\site-packages (from k3d->brainrender->brainglobe-heatmap) (5.7.1)\n",
      "Requirement already satisfied: traittypes in c:\\users\\salvo\\anaconda3\\lib\\site-packages (from k3d->brainrender->brainglobe-heatmap) (0.2.1)\n",
      "Requirement already satisfied: colorama>=0.3.4 in c:\\users\\salvo\\anaconda3\\lib\\site-packages (from loguru->brainrender->brainglobe-heatmap) (0.4.6)\n",
      "Requirement already satisfied: win32-setctime>=1.0.0 in c:\\users\\salvo\\anaconda3\\lib\\site-packages (from loguru->brainrender->brainglobe-heatmap) (1.1.0)\n",
      "Requirement already satisfied: pytz>=2020.1 in c:\\users\\salvo\\anaconda3\\lib\\site-packages (from pandas->brainrender->brainglobe-heatmap) (2023.3.post1)\n",
      "Requirement already satisfied: platformdirs>=2.5.0 in c:\\users\\salvo\\anaconda3\\lib\\site-packages (from pooch->brainrender->brainglobe-heatmap) (3.10.0)\n",
      "Requirement already satisfied: charset-normalizer<4,>=2 in c:\\users\\salvo\\anaconda3\\lib\\site-packages (from requests->brainrender->brainglobe-heatmap) (2.0.4)\n",
      "Requirement already satisfied: idna<4,>=2.5 in c:\\users\\salvo\\anaconda3\\lib\\site-packages (from requests->brainrender->brainglobe-heatmap) (3.4)\n",
      "Requirement already satisfied: urllib3<3,>=1.21.1 in c:\\users\\salvo\\anaconda3\\lib\\site-packages (from requests->brainrender->brainglobe-heatmap) (1.26.16)\n",
      "Requirement already satisfied: certifi>=2017.4.17 in c:\\users\\salvo\\anaconda3\\lib\\site-packages (from requests->brainrender->brainglobe-heatmap) (2024.2.2)\n",
      "Requirement already satisfied: cython>=0.29.21 in c:\\users\\salvo\\anaconda3\\lib\\site-packages (from tables->brainrender->brainglobe-heatmap) (3.0.8)\n",
      "Requirement already satisfied: numexpr>=2.6.2 in c:\\users\\salvo\\anaconda3\\lib\\site-packages (from tables->brainrender->brainglobe-heatmap) (2.8.4)\n",
      "Requirement already satisfied: blosc2~=2.0.0 in c:\\users\\salvo\\anaconda3\\lib\\site-packages (from tables->brainrender->brainglobe-heatmap) (2.0.0)\n",
      "Requirement already satisfied: py-cpuinfo in c:\\users\\salvo\\anaconda3\\lib\\site-packages (from tables->brainrender->brainglobe-heatmap) (8.0.0)\n",
      "Requirement already satisfied: ipykernel>=4.5.1 in c:\\users\\salvo\\anaconda3\\lib\\site-packages (from ipywidgets<9.0.0,>=7.0.0->k3d->brainrender->brainglobe-heatmap) (6.25.0)\n",
      "Requirement already satisfied: ipython>=6.1.0 in c:\\users\\salvo\\anaconda3\\lib\\site-packages (from ipywidgets<9.0.0,>=7.0.0->k3d->brainrender->brainglobe-heatmap) (8.15.0)\n",
      "Requirement already satisfied: widgetsnbextension~=4.0 in c:\\users\\salvo\\anaconda3\\lib\\site-packages (from ipywidgets<9.0.0,>=7.0.0->k3d->brainrender->brainglobe-heatmap) (4.0.5)\n",
      "Requirement already satisfied: jupyterlab-widgets~=3.0 in c:\\users\\salvo\\anaconda3\\lib\\site-packages (from ipywidgets<9.0.0,>=7.0.0->k3d->brainrender->brainglobe-heatmap) (3.0.5)\n",
      "Requirement already satisfied: morphio>=3.3.6 in c:\\users\\salvo\\anaconda3\\lib\\site-packages (from neurom<4,>=3->morphapi>=0.2.1->brainrender->brainglobe-heatmap) (3.3.7)\n",
      "Requirement already satisfied: configobj in c:\\users\\salvo\\anaconda3\\lib\\site-packages (from brainglobe-utils[slurmio]->imio->brainrender->brainglobe-heatmap) (5.0.8)\n",
      "Requirement already satisfied: slurmio in c:\\users\\salvo\\anaconda3\\lib\\site-packages (from brainglobe-utils[slurmio]->imio->brainrender->brainglobe-heatmap) (0.1.1)\n",
      "Requirement already satisfied: beautifulsoup4 in c:\\users\\salvo\\anaconda3\\lib\\site-packages (from bs4->pyinspect>=0.0.8->brainrender->brainglobe-heatmap) (4.12.2)\n",
      "Requirement already satisfied: nptyping in c:\\users\\salvo\\anaconda3\\lib\\site-packages (from pynrrd->imio->brainrender->brainglobe-heatmap) (2.5.0)\n",
      "Requirement already satisfied: typing-extensions in c:\\users\\salvo\\anaconda3\\lib\\site-packages (from pynrrd->imio->brainrender->brainglobe-heatmap) (4.7.1)\n",
      "Requirement already satisfied: decorator>=3.4.2 in c:\\users\\salvo\\anaconda3\\lib\\site-packages (from retry->morphapi>=0.2.1->brainrender->brainglobe-heatmap) (5.1.1)\n",
      "Requirement already satisfied: py<2.0.0,>=1.4.26 in c:\\users\\salvo\\anaconda3\\lib\\site-packages (from retry->morphapi>=0.2.1->brainrender->brainglobe-heatmap) (1.11.0)\n",
      "Requirement already satisfied: networkx>=2.8 in c:\\users\\salvo\\anaconda3\\lib\\site-packages (from scikit-image->imio->brainrender->brainglobe-heatmap) (3.1)\n",
      "Requirement already satisfied: imageio>=2.4.1 in c:\\users\\salvo\\anaconda3\\lib\\site-packages (from scikit-image->imio->brainrender->brainglobe-heatmap) (2.26.0)\n",
      "Requirement already satisfied: PyWavelets>=1.1.1 in c:\\users\\salvo\\anaconda3\\lib\\site-packages (from scikit-image->imio->brainrender->brainglobe-heatmap) (1.4.1)\n",
      "Requirement already satisfied: lazy_loader>=0.1 in c:\\users\\salvo\\anaconda3\\lib\\site-packages (from scikit-image->imio->brainrender->brainglobe-heatmap) (0.2)\n",
      "Requirement already satisfied: comm>=0.1.1 in c:\\users\\salvo\\anaconda3\\lib\\site-packages (from ipykernel>=4.5.1->ipywidgets<9.0.0,>=7.0.0->k3d->brainrender->brainglobe-heatmap) (0.1.2)\n",
      "Requirement already satisfied: debugpy>=1.6.5 in c:\\users\\salvo\\anaconda3\\lib\\site-packages (from ipykernel>=4.5.1->ipywidgets<9.0.0,>=7.0.0->k3d->brainrender->brainglobe-heatmap) (1.6.7)\n",
      "Requirement already satisfied: jupyter-client>=6.1.12 in c:\\users\\salvo\\anaconda3\\lib\\site-packages (from ipykernel>=4.5.1->ipywidgets<9.0.0,>=7.0.0->k3d->brainrender->brainglobe-heatmap) (7.4.9)\n",
      "Requirement already satisfied: jupyter-core!=5.0.*,>=4.12 in c:\\users\\salvo\\anaconda3\\lib\\site-packages (from ipykernel>=4.5.1->ipywidgets<9.0.0,>=7.0.0->k3d->brainrender->brainglobe-heatmap) (5.3.0)\n",
      "Requirement already satisfied: matplotlib-inline>=0.1 in c:\\users\\salvo\\anaconda3\\lib\\site-packages (from ipykernel>=4.5.1->ipywidgets<9.0.0,>=7.0.0->k3d->brainrender->brainglobe-heatmap) (0.1.6)\n",
      "Requirement already satisfied: nest-asyncio in c:\\users\\salvo\\anaconda3\\lib\\site-packages (from ipykernel>=4.5.1->ipywidgets<9.0.0,>=7.0.0->k3d->brainrender->brainglobe-heatmap) (1.5.6)\n",
      "Requirement already satisfied: pyzmq>=20 in c:\\users\\salvo\\anaconda3\\lib\\site-packages (from ipykernel>=4.5.1->ipywidgets<9.0.0,>=7.0.0->k3d->brainrender->brainglobe-heatmap) (23.2.0)\n",
      "Requirement already satisfied: tornado>=6.1 in c:\\users\\salvo\\anaconda3\\lib\\site-packages (from ipykernel>=4.5.1->ipywidgets<9.0.0,>=7.0.0->k3d->brainrender->brainglobe-heatmap) (6.3.2)\n",
      "Requirement already satisfied: backcall in c:\\users\\salvo\\anaconda3\\lib\\site-packages (from ipython>=6.1.0->ipywidgets<9.0.0,>=7.0.0->k3d->brainrender->brainglobe-heatmap) (0.2.0)\n",
      "Requirement already satisfied: jedi>=0.16 in c:\\users\\salvo\\anaconda3\\lib\\site-packages (from ipython>=6.1.0->ipywidgets<9.0.0,>=7.0.0->k3d->brainrender->brainglobe-heatmap) (0.18.1)\n",
      "Requirement already satisfied: pickleshare in c:\\users\\salvo\\anaconda3\\lib\\site-packages (from ipython>=6.1.0->ipywidgets<9.0.0,>=7.0.0->k3d->brainrender->brainglobe-heatmap) (0.7.5)\n",
      "Requirement already satisfied: prompt-toolkit!=3.0.37,<3.1.0,>=3.0.30 in c:\\users\\salvo\\anaconda3\\lib\\site-packages (from ipython>=6.1.0->ipywidgets<9.0.0,>=7.0.0->k3d->brainrender->brainglobe-heatmap) (3.0.36)\n",
      "Requirement already satisfied: stack-data in c:\\users\\salvo\\anaconda3\\lib\\site-packages (from ipython>=6.1.0->ipywidgets<9.0.0,>=7.0.0->k3d->brainrender->brainglobe-heatmap) (0.2.0)\n",
      "Requirement already satisfied: soupsieve>1.2 in c:\\users\\salvo\\anaconda3\\lib\\site-packages (from beautifulsoup4->bs4->pyinspect>=0.0.8->brainrender->brainglobe-heatmap) (2.4)\n",
      "Requirement already satisfied: parso<0.9.0,>=0.8.0 in c:\\users\\salvo\\anaconda3\\lib\\site-packages (from jedi>=0.16->ipython>=6.1.0->ipywidgets<9.0.0,>=7.0.0->k3d->brainrender->brainglobe-heatmap) (0.8.3)\n",
      "Requirement already satisfied: entrypoints in c:\\users\\salvo\\anaconda3\\lib\\site-packages (from jupyter-client>=6.1.12->ipykernel>=4.5.1->ipywidgets<9.0.0,>=7.0.0->k3d->brainrender->brainglobe-heatmap) (0.4)\n",
      "Requirement already satisfied: pywin32>=300 in c:\\users\\salvo\\anaconda3\\lib\\site-packages (from jupyter-core!=5.0.*,>=4.12->ipykernel>=4.5.1->ipywidgets<9.0.0,>=7.0.0->k3d->brainrender->brainglobe-heatmap) (305.1)\n",
      "Requirement already satisfied: wcwidth in c:\\users\\salvo\\anaconda3\\lib\\site-packages (from prompt-toolkit!=3.0.37,<3.1.0,>=3.0.30->ipython>=6.1.0->ipywidgets<9.0.0,>=7.0.0->k3d->brainrender->brainglobe-heatmap) (0.2.5)\n",
      "Requirement already satisfied: executing in c:\\users\\salvo\\anaconda3\\lib\\site-packages (from stack-data->ipython>=6.1.0->ipywidgets<9.0.0,>=7.0.0->k3d->brainrender->brainglobe-heatmap) (0.8.3)\n",
      "Requirement already satisfied: asttokens in c:\\users\\salvo\\anaconda3\\lib\\site-packages (from stack-data->ipython>=6.1.0->ipywidgets<9.0.0,>=7.0.0->k3d->brainrender->brainglobe-heatmap) (2.0.5)\n",
      "Requirement already satisfied: pure-eval in c:\\users\\salvo\\anaconda3\\lib\\site-packages (from stack-data->ipython>=6.1.0->ipywidgets<9.0.0,>=7.0.0->k3d->brainrender->brainglobe-heatmap) (0.2.2)\n",
      "Note: you may need to restart the kernel to use updated packages.\n"
     ]
    },
    {
     "name": "stderr",
     "output_type": "stream",
     "text": [
      "WARNING: brainglobe-utils 0.4.1 does not provide the extra 'slurmio'\n"
     ]
    }
   ],
   "source": [
    "pip install brainglobe-heatmap"
   ]
  },
  {
   "cell_type": "code",
   "execution_count": 7,
   "id": "f2c0e8c0",
   "metadata": {},
   "outputs": [
    {
     "ename": "NameError",
     "evalue": "name 'regions' is not defined",
     "output_type": "error",
     "traceback": [
      "\u001b[1;31m---------------------------------------------------------------------------\u001b[0m",
      "\u001b[1;31mNameError\u001b[0m                                 Traceback (most recent call last)",
      "Cell \u001b[1;32mIn[7], line 5\u001b[0m\n\u001b[0;32m      1\u001b[0m \u001b[38;5;28;01mimport\u001b[39;00m \u001b[38;5;21;01mbrainglobe_heatmap\u001b[39;00m \u001b[38;5;28;01mas\u001b[39;00m \u001b[38;5;21;01mbgh\u001b[39;00m\n\u001b[0;32m      4\u001b[0m planner \u001b[38;5;241m=\u001b[39m bgh\u001b[38;5;241m.\u001b[39mplan(\n\u001b[1;32m----> 5\u001b[0m     regions,\n\u001b[0;32m      6\u001b[0m     position\u001b[38;5;241m=\u001b[39m(\n\u001b[0;32m      7\u001b[0m         \u001b[38;5;241m8000\u001b[39m,\n\u001b[0;32m      8\u001b[0m         \u001b[38;5;241m5000\u001b[39m,\n\u001b[0;32m      9\u001b[0m         \u001b[38;5;241m5000\u001b[39m,\n\u001b[0;32m     10\u001b[0m     ),\n\u001b[0;32m     11\u001b[0m     orientation\u001b[38;5;241m=\u001b[39m\u001b[38;5;124m\"\u001b[39m\u001b[38;5;124mfrontal\u001b[39m\u001b[38;5;124m\"\u001b[39m,  \u001b[38;5;66;03m# orientation, or 'sagittal', or 'horizontal' or a tuple (x,y,z)\u001b[39;00m\n\u001b[0;32m     12\u001b[0m     thickness\u001b[38;5;241m=\u001b[39m\u001b[38;5;241m2000\u001b[39m,  \u001b[38;5;66;03m# thickness of the slices used for rendering (in microns)\u001b[39;00m\n\u001b[0;32m     13\u001b[0m )\n",
      "\u001b[1;31mNameError\u001b[0m: name 'regions' is not defined"
     ]
    }
   ],
   "source": [
    "import brainglobe_heatmap as bgh\n",
    "\n",
    "\n",
    "planner = bgh.plan(\n",
    "    regions,\n",
    "    position=(\n",
    "        8000,\n",
    "        5000,\n",
    "        5000,\n",
    "    ),\n",
    "    orientation=\"frontal\",  # orientation, or 'sagittal', or 'horizontal' or a tuple (x,y,z)\n",
    "    thickness=2000,  # thickness of the slices used for rendering (in microns)\n",
    ")"
   ]
  },
  {
   "cell_type": "code",
   "execution_count": null,
   "id": "4f985ca7",
   "metadata": {},
   "outputs": [],
   "source": [
    "cd Desktop/"
   ]
  },
  {
   "cell_type": "code",
   "execution_count": 8,
   "id": "49c4dbbd",
   "metadata": {},
   "outputs": [
    {
     "ename": "FileNotFoundError",
     "evalue": "[Errno 2] No such file or directory: 'measurements_new.csv'",
     "output_type": "error",
     "traceback": [
      "\u001b[1;31m---------------------------------------------------------------------------\u001b[0m",
      "\u001b[1;31mFileNotFoundError\u001b[0m                         Traceback (most recent call last)",
      "Cell \u001b[1;32mIn[8], line 5\u001b[0m\n\u001b[0;32m      2\u001b[0m \u001b[38;5;28;01mimport\u001b[39;00m \u001b[38;5;21;01mnumpy\u001b[39;00m \u001b[38;5;28;01mas\u001b[39;00m \u001b[38;5;21;01mnp\u001b[39;00m\n\u001b[0;32m      4\u001b[0m \u001b[38;5;66;03m# Read CSV file into a DataFrame\u001b[39;00m\n\u001b[1;32m----> 5\u001b[0m df \u001b[38;5;241m=\u001b[39m pd\u001b[38;5;241m.\u001b[39mread_csv(\u001b[38;5;124m'\u001b[39m\u001b[38;5;124mmeasurements_new.csv\u001b[39m\u001b[38;5;124m'\u001b[39m)\n\u001b[0;32m      7\u001b[0m \u001b[38;5;66;03m# Convert DataFrame to NumPy array\u001b[39;00m\n\u001b[0;32m      8\u001b[0m data_array \u001b[38;5;241m=\u001b[39m df\u001b[38;5;241m.\u001b[39mvalues\n",
      "File \u001b[1;32m~\\AppData\\Roaming\\Python\\Python311\\site-packages\\pandas\\util\\_decorators.py:211\u001b[0m, in \u001b[0;36mdeprecate_kwarg.<locals>._deprecate_kwarg.<locals>.wrapper\u001b[1;34m(*args, **kwargs)\u001b[0m\n\u001b[0;32m    209\u001b[0m     \u001b[38;5;28;01melse\u001b[39;00m:\n\u001b[0;32m    210\u001b[0m         kwargs[new_arg_name] \u001b[38;5;241m=\u001b[39m new_arg_value\n\u001b[1;32m--> 211\u001b[0m \u001b[38;5;28;01mreturn\u001b[39;00m func(\u001b[38;5;241m*\u001b[39margs, \u001b[38;5;241m*\u001b[39m\u001b[38;5;241m*\u001b[39mkwargs)\n",
      "File \u001b[1;32m~\\AppData\\Roaming\\Python\\Python311\\site-packages\\pandas\\util\\_decorators.py:331\u001b[0m, in \u001b[0;36mdeprecate_nonkeyword_arguments.<locals>.decorate.<locals>.wrapper\u001b[1;34m(*args, **kwargs)\u001b[0m\n\u001b[0;32m    325\u001b[0m \u001b[38;5;28;01mif\u001b[39;00m \u001b[38;5;28mlen\u001b[39m(args) \u001b[38;5;241m>\u001b[39m num_allow_args:\n\u001b[0;32m    326\u001b[0m     warnings\u001b[38;5;241m.\u001b[39mwarn(\n\u001b[0;32m    327\u001b[0m         msg\u001b[38;5;241m.\u001b[39mformat(arguments\u001b[38;5;241m=\u001b[39m_format_argument_list(allow_args)),\n\u001b[0;32m    328\u001b[0m         \u001b[38;5;167;01mFutureWarning\u001b[39;00m,\n\u001b[0;32m    329\u001b[0m         stacklevel\u001b[38;5;241m=\u001b[39mfind_stack_level(),\n\u001b[0;32m    330\u001b[0m     )\n\u001b[1;32m--> 331\u001b[0m \u001b[38;5;28;01mreturn\u001b[39;00m func(\u001b[38;5;241m*\u001b[39margs, \u001b[38;5;241m*\u001b[39m\u001b[38;5;241m*\u001b[39mkwargs)\n",
      "File \u001b[1;32m~\\AppData\\Roaming\\Python\\Python311\\site-packages\\pandas\\io\\parsers\\readers.py:950\u001b[0m, in \u001b[0;36mread_csv\u001b[1;34m(filepath_or_buffer, sep, delimiter, header, names, index_col, usecols, squeeze, prefix, mangle_dupe_cols, dtype, engine, converters, true_values, false_values, skipinitialspace, skiprows, skipfooter, nrows, na_values, keep_default_na, na_filter, verbose, skip_blank_lines, parse_dates, infer_datetime_format, keep_date_col, date_parser, dayfirst, cache_dates, iterator, chunksize, compression, thousands, decimal, lineterminator, quotechar, quoting, doublequote, escapechar, comment, encoding, encoding_errors, dialect, error_bad_lines, warn_bad_lines, on_bad_lines, delim_whitespace, low_memory, memory_map, float_precision, storage_options)\u001b[0m\n\u001b[0;32m    935\u001b[0m kwds_defaults \u001b[38;5;241m=\u001b[39m _refine_defaults_read(\n\u001b[0;32m    936\u001b[0m     dialect,\n\u001b[0;32m    937\u001b[0m     delimiter,\n\u001b[1;32m   (...)\u001b[0m\n\u001b[0;32m    946\u001b[0m     defaults\u001b[38;5;241m=\u001b[39m{\u001b[38;5;124m\"\u001b[39m\u001b[38;5;124mdelimiter\u001b[39m\u001b[38;5;124m\"\u001b[39m: \u001b[38;5;124m\"\u001b[39m\u001b[38;5;124m,\u001b[39m\u001b[38;5;124m\"\u001b[39m},\n\u001b[0;32m    947\u001b[0m )\n\u001b[0;32m    948\u001b[0m kwds\u001b[38;5;241m.\u001b[39mupdate(kwds_defaults)\n\u001b[1;32m--> 950\u001b[0m \u001b[38;5;28;01mreturn\u001b[39;00m _read(filepath_or_buffer, kwds)\n",
      "File \u001b[1;32m~\\AppData\\Roaming\\Python\\Python311\\site-packages\\pandas\\io\\parsers\\readers.py:605\u001b[0m, in \u001b[0;36m_read\u001b[1;34m(filepath_or_buffer, kwds)\u001b[0m\n\u001b[0;32m    602\u001b[0m _validate_names(kwds\u001b[38;5;241m.\u001b[39mget(\u001b[38;5;124m\"\u001b[39m\u001b[38;5;124mnames\u001b[39m\u001b[38;5;124m\"\u001b[39m, \u001b[38;5;28;01mNone\u001b[39;00m))\n\u001b[0;32m    604\u001b[0m \u001b[38;5;66;03m# Create the parser.\u001b[39;00m\n\u001b[1;32m--> 605\u001b[0m parser \u001b[38;5;241m=\u001b[39m TextFileReader(filepath_or_buffer, \u001b[38;5;241m*\u001b[39m\u001b[38;5;241m*\u001b[39mkwds)\n\u001b[0;32m    607\u001b[0m \u001b[38;5;28;01mif\u001b[39;00m chunksize \u001b[38;5;129;01mor\u001b[39;00m iterator:\n\u001b[0;32m    608\u001b[0m     \u001b[38;5;28;01mreturn\u001b[39;00m parser\n",
      "File \u001b[1;32m~\\AppData\\Roaming\\Python\\Python311\\site-packages\\pandas\\io\\parsers\\readers.py:1442\u001b[0m, in \u001b[0;36mTextFileReader.__init__\u001b[1;34m(self, f, engine, **kwds)\u001b[0m\n\u001b[0;32m   1439\u001b[0m     \u001b[38;5;28mself\u001b[39m\u001b[38;5;241m.\u001b[39moptions[\u001b[38;5;124m\"\u001b[39m\u001b[38;5;124mhas_index_names\u001b[39m\u001b[38;5;124m\"\u001b[39m] \u001b[38;5;241m=\u001b[39m kwds[\u001b[38;5;124m\"\u001b[39m\u001b[38;5;124mhas_index_names\u001b[39m\u001b[38;5;124m\"\u001b[39m]\n\u001b[0;32m   1441\u001b[0m \u001b[38;5;28mself\u001b[39m\u001b[38;5;241m.\u001b[39mhandles: IOHandles \u001b[38;5;241m|\u001b[39m \u001b[38;5;28;01mNone\u001b[39;00m \u001b[38;5;241m=\u001b[39m \u001b[38;5;28;01mNone\u001b[39;00m\n\u001b[1;32m-> 1442\u001b[0m \u001b[38;5;28mself\u001b[39m\u001b[38;5;241m.\u001b[39m_engine \u001b[38;5;241m=\u001b[39m \u001b[38;5;28mself\u001b[39m\u001b[38;5;241m.\u001b[39m_make_engine(f, \u001b[38;5;28mself\u001b[39m\u001b[38;5;241m.\u001b[39mengine)\n",
      "File \u001b[1;32m~\\AppData\\Roaming\\Python\\Python311\\site-packages\\pandas\\io\\parsers\\readers.py:1735\u001b[0m, in \u001b[0;36mTextFileReader._make_engine\u001b[1;34m(self, f, engine)\u001b[0m\n\u001b[0;32m   1733\u001b[0m     \u001b[38;5;28;01mif\u001b[39;00m \u001b[38;5;124m\"\u001b[39m\u001b[38;5;124mb\u001b[39m\u001b[38;5;124m\"\u001b[39m \u001b[38;5;129;01mnot\u001b[39;00m \u001b[38;5;129;01min\u001b[39;00m mode:\n\u001b[0;32m   1734\u001b[0m         mode \u001b[38;5;241m+\u001b[39m\u001b[38;5;241m=\u001b[39m \u001b[38;5;124m\"\u001b[39m\u001b[38;5;124mb\u001b[39m\u001b[38;5;124m\"\u001b[39m\n\u001b[1;32m-> 1735\u001b[0m \u001b[38;5;28mself\u001b[39m\u001b[38;5;241m.\u001b[39mhandles \u001b[38;5;241m=\u001b[39m get_handle(\n\u001b[0;32m   1736\u001b[0m     f,\n\u001b[0;32m   1737\u001b[0m     mode,\n\u001b[0;32m   1738\u001b[0m     encoding\u001b[38;5;241m=\u001b[39m\u001b[38;5;28mself\u001b[39m\u001b[38;5;241m.\u001b[39moptions\u001b[38;5;241m.\u001b[39mget(\u001b[38;5;124m\"\u001b[39m\u001b[38;5;124mencoding\u001b[39m\u001b[38;5;124m\"\u001b[39m, \u001b[38;5;28;01mNone\u001b[39;00m),\n\u001b[0;32m   1739\u001b[0m     compression\u001b[38;5;241m=\u001b[39m\u001b[38;5;28mself\u001b[39m\u001b[38;5;241m.\u001b[39moptions\u001b[38;5;241m.\u001b[39mget(\u001b[38;5;124m\"\u001b[39m\u001b[38;5;124mcompression\u001b[39m\u001b[38;5;124m\"\u001b[39m, \u001b[38;5;28;01mNone\u001b[39;00m),\n\u001b[0;32m   1740\u001b[0m     memory_map\u001b[38;5;241m=\u001b[39m\u001b[38;5;28mself\u001b[39m\u001b[38;5;241m.\u001b[39moptions\u001b[38;5;241m.\u001b[39mget(\u001b[38;5;124m\"\u001b[39m\u001b[38;5;124mmemory_map\u001b[39m\u001b[38;5;124m\"\u001b[39m, \u001b[38;5;28;01mFalse\u001b[39;00m),\n\u001b[0;32m   1741\u001b[0m     is_text\u001b[38;5;241m=\u001b[39mis_text,\n\u001b[0;32m   1742\u001b[0m     errors\u001b[38;5;241m=\u001b[39m\u001b[38;5;28mself\u001b[39m\u001b[38;5;241m.\u001b[39moptions\u001b[38;5;241m.\u001b[39mget(\u001b[38;5;124m\"\u001b[39m\u001b[38;5;124mencoding_errors\u001b[39m\u001b[38;5;124m\"\u001b[39m, \u001b[38;5;124m\"\u001b[39m\u001b[38;5;124mstrict\u001b[39m\u001b[38;5;124m\"\u001b[39m),\n\u001b[0;32m   1743\u001b[0m     storage_options\u001b[38;5;241m=\u001b[39m\u001b[38;5;28mself\u001b[39m\u001b[38;5;241m.\u001b[39moptions\u001b[38;5;241m.\u001b[39mget(\u001b[38;5;124m\"\u001b[39m\u001b[38;5;124mstorage_options\u001b[39m\u001b[38;5;124m\"\u001b[39m, \u001b[38;5;28;01mNone\u001b[39;00m),\n\u001b[0;32m   1744\u001b[0m )\n\u001b[0;32m   1745\u001b[0m \u001b[38;5;28;01massert\u001b[39;00m \u001b[38;5;28mself\u001b[39m\u001b[38;5;241m.\u001b[39mhandles \u001b[38;5;129;01mis\u001b[39;00m \u001b[38;5;129;01mnot\u001b[39;00m \u001b[38;5;28;01mNone\u001b[39;00m\n\u001b[0;32m   1746\u001b[0m f \u001b[38;5;241m=\u001b[39m \u001b[38;5;28mself\u001b[39m\u001b[38;5;241m.\u001b[39mhandles\u001b[38;5;241m.\u001b[39mhandle\n",
      "File \u001b[1;32m~\\AppData\\Roaming\\Python\\Python311\\site-packages\\pandas\\io\\common.py:856\u001b[0m, in \u001b[0;36mget_handle\u001b[1;34m(path_or_buf, mode, encoding, compression, memory_map, is_text, errors, storage_options)\u001b[0m\n\u001b[0;32m    851\u001b[0m \u001b[38;5;28;01melif\u001b[39;00m \u001b[38;5;28misinstance\u001b[39m(handle, \u001b[38;5;28mstr\u001b[39m):\n\u001b[0;32m    852\u001b[0m     \u001b[38;5;66;03m# Check whether the filename is to be opened in binary mode.\u001b[39;00m\n\u001b[0;32m    853\u001b[0m     \u001b[38;5;66;03m# Binary mode does not support 'encoding' and 'newline'.\u001b[39;00m\n\u001b[0;32m    854\u001b[0m     \u001b[38;5;28;01mif\u001b[39;00m ioargs\u001b[38;5;241m.\u001b[39mencoding \u001b[38;5;129;01mand\u001b[39;00m \u001b[38;5;124m\"\u001b[39m\u001b[38;5;124mb\u001b[39m\u001b[38;5;124m\"\u001b[39m \u001b[38;5;129;01mnot\u001b[39;00m \u001b[38;5;129;01min\u001b[39;00m ioargs\u001b[38;5;241m.\u001b[39mmode:\n\u001b[0;32m    855\u001b[0m         \u001b[38;5;66;03m# Encoding\u001b[39;00m\n\u001b[1;32m--> 856\u001b[0m         handle \u001b[38;5;241m=\u001b[39m \u001b[38;5;28mopen\u001b[39m(\n\u001b[0;32m    857\u001b[0m             handle,\n\u001b[0;32m    858\u001b[0m             ioargs\u001b[38;5;241m.\u001b[39mmode,\n\u001b[0;32m    859\u001b[0m             encoding\u001b[38;5;241m=\u001b[39mioargs\u001b[38;5;241m.\u001b[39mencoding,\n\u001b[0;32m    860\u001b[0m             errors\u001b[38;5;241m=\u001b[39merrors,\n\u001b[0;32m    861\u001b[0m             newline\u001b[38;5;241m=\u001b[39m\u001b[38;5;124m\"\u001b[39m\u001b[38;5;124m\"\u001b[39m,\n\u001b[0;32m    862\u001b[0m         )\n\u001b[0;32m    863\u001b[0m     \u001b[38;5;28;01melse\u001b[39;00m:\n\u001b[0;32m    864\u001b[0m         \u001b[38;5;66;03m# Binary mode\u001b[39;00m\n\u001b[0;32m    865\u001b[0m         handle \u001b[38;5;241m=\u001b[39m \u001b[38;5;28mopen\u001b[39m(handle, ioargs\u001b[38;5;241m.\u001b[39mmode)\n",
      "\u001b[1;31mFileNotFoundError\u001b[0m: [Errno 2] No such file or directory: 'measurements_new.csv'"
     ]
    }
   ],
   "source": [
    "import pandas as pd\n",
    "import numpy as np\n",
    "\n",
    "# Read CSV file into a DataFrame\n",
    "df = pd.read_csv('measurements_new.csv')\n",
    "\n",
    "# Convert DataFrame to NumPy array\n",
    "data_array = df.values\n",
    "\n",
    "# Save NumPy array as .npy file\n",
    "np.save('example.npy', data_array)\n"
   ]
  },
  {
   "cell_type": "code",
   "execution_count": null,
   "id": "bcd7de13",
   "metadata": {},
   "outputs": [],
   "source": [
    "cd C:\\Users\\Salvo\\Downloads"
   ]
  },
  {
   "cell_type": "code",
   "execution_count": 9,
   "id": "d9cad068",
   "metadata": {
    "scrolled": true
   },
   "outputs": [
    {
     "ename": "FileNotFoundError",
     "evalue": "[Errno 2] No such file or directory: 'concat_detections_+++_full.csv'",
     "output_type": "error",
     "traceback": [
      "\u001b[1;31m---------------------------------------------------------------------------\u001b[0m",
      "\u001b[1;31mFileNotFoundError\u001b[0m                         Traceback (most recent call last)",
      "Cell \u001b[1;32mIn[9], line 7\u001b[0m\n\u001b[0;32m      5\u001b[0m viewer \u001b[38;5;241m=\u001b[39m napari\u001b[38;5;241m.\u001b[39mViewer()\n\u001b[0;32m      6\u001b[0m detections_csv \u001b[38;5;241m=\u001b[39m \u001b[38;5;124m\"\u001b[39m\u001b[38;5;124mconcat_detections_+++_full.csv\u001b[39m\u001b[38;5;124m\"\u001b[39m\n\u001b[1;32m----> 7\u001b[0m df \u001b[38;5;241m=\u001b[39m pd\u001b[38;5;241m.\u001b[39mread_csv( detections_csv )\n\u001b[0;32m      8\u001b[0m \u001b[38;5;66;03m#df.shape\u001b[39;00m\n\u001b[0;32m      9\u001b[0m \u001b[38;5;66;03m#df.head()\u001b[39;00m\n\u001b[0;32m     10\u001b[0m \n\u001b[0;32m     11\u001b[0m \u001b[38;5;66;03m# multiply coordinates by 1000 , order (x,y,z)\u001b[39;00m\n\u001b[0;32m     12\u001b[0m np_posZXY \u001b[38;5;241m=\u001b[39m np\u001b[38;5;241m.\u001b[39marray( df[[\u001b[38;5;124m'\u001b[39m\u001b[38;5;124mAtlas_X\u001b[39m\u001b[38;5;124m'\u001b[39m, \u001b[38;5;124m'\u001b[39m\u001b[38;5;124mAtlas_Y\u001b[39m\u001b[38;5;124m'\u001b[39m,\u001b[38;5;124m'\u001b[39m\u001b[38;5;124mAtlas_Z\u001b[39m\u001b[38;5;124m'\u001b[39m]] , \u001b[38;5;28mfloat\u001b[39m) \u001b[38;5;241m*\u001b[39m \u001b[38;5;241m1000\u001b[39m\n",
      "File \u001b[1;32m~\\AppData\\Roaming\\Python\\Python311\\site-packages\\pandas\\util\\_decorators.py:211\u001b[0m, in \u001b[0;36mdeprecate_kwarg.<locals>._deprecate_kwarg.<locals>.wrapper\u001b[1;34m(*args, **kwargs)\u001b[0m\n\u001b[0;32m    209\u001b[0m     \u001b[38;5;28;01melse\u001b[39;00m:\n\u001b[0;32m    210\u001b[0m         kwargs[new_arg_name] \u001b[38;5;241m=\u001b[39m new_arg_value\n\u001b[1;32m--> 211\u001b[0m \u001b[38;5;28;01mreturn\u001b[39;00m func(\u001b[38;5;241m*\u001b[39margs, \u001b[38;5;241m*\u001b[39m\u001b[38;5;241m*\u001b[39mkwargs)\n",
      "File \u001b[1;32m~\\AppData\\Roaming\\Python\\Python311\\site-packages\\pandas\\util\\_decorators.py:331\u001b[0m, in \u001b[0;36mdeprecate_nonkeyword_arguments.<locals>.decorate.<locals>.wrapper\u001b[1;34m(*args, **kwargs)\u001b[0m\n\u001b[0;32m    325\u001b[0m \u001b[38;5;28;01mif\u001b[39;00m \u001b[38;5;28mlen\u001b[39m(args) \u001b[38;5;241m>\u001b[39m num_allow_args:\n\u001b[0;32m    326\u001b[0m     warnings\u001b[38;5;241m.\u001b[39mwarn(\n\u001b[0;32m    327\u001b[0m         msg\u001b[38;5;241m.\u001b[39mformat(arguments\u001b[38;5;241m=\u001b[39m_format_argument_list(allow_args)),\n\u001b[0;32m    328\u001b[0m         \u001b[38;5;167;01mFutureWarning\u001b[39;00m,\n\u001b[0;32m    329\u001b[0m         stacklevel\u001b[38;5;241m=\u001b[39mfind_stack_level(),\n\u001b[0;32m    330\u001b[0m     )\n\u001b[1;32m--> 331\u001b[0m \u001b[38;5;28;01mreturn\u001b[39;00m func(\u001b[38;5;241m*\u001b[39margs, \u001b[38;5;241m*\u001b[39m\u001b[38;5;241m*\u001b[39mkwargs)\n",
      "File \u001b[1;32m~\\AppData\\Roaming\\Python\\Python311\\site-packages\\pandas\\io\\parsers\\readers.py:950\u001b[0m, in \u001b[0;36mread_csv\u001b[1;34m(filepath_or_buffer, sep, delimiter, header, names, index_col, usecols, squeeze, prefix, mangle_dupe_cols, dtype, engine, converters, true_values, false_values, skipinitialspace, skiprows, skipfooter, nrows, na_values, keep_default_na, na_filter, verbose, skip_blank_lines, parse_dates, infer_datetime_format, keep_date_col, date_parser, dayfirst, cache_dates, iterator, chunksize, compression, thousands, decimal, lineterminator, quotechar, quoting, doublequote, escapechar, comment, encoding, encoding_errors, dialect, error_bad_lines, warn_bad_lines, on_bad_lines, delim_whitespace, low_memory, memory_map, float_precision, storage_options)\u001b[0m\n\u001b[0;32m    935\u001b[0m kwds_defaults \u001b[38;5;241m=\u001b[39m _refine_defaults_read(\n\u001b[0;32m    936\u001b[0m     dialect,\n\u001b[0;32m    937\u001b[0m     delimiter,\n\u001b[1;32m   (...)\u001b[0m\n\u001b[0;32m    946\u001b[0m     defaults\u001b[38;5;241m=\u001b[39m{\u001b[38;5;124m\"\u001b[39m\u001b[38;5;124mdelimiter\u001b[39m\u001b[38;5;124m\"\u001b[39m: \u001b[38;5;124m\"\u001b[39m\u001b[38;5;124m,\u001b[39m\u001b[38;5;124m\"\u001b[39m},\n\u001b[0;32m    947\u001b[0m )\n\u001b[0;32m    948\u001b[0m kwds\u001b[38;5;241m.\u001b[39mupdate(kwds_defaults)\n\u001b[1;32m--> 950\u001b[0m \u001b[38;5;28;01mreturn\u001b[39;00m _read(filepath_or_buffer, kwds)\n",
      "File \u001b[1;32m~\\AppData\\Roaming\\Python\\Python311\\site-packages\\pandas\\io\\parsers\\readers.py:605\u001b[0m, in \u001b[0;36m_read\u001b[1;34m(filepath_or_buffer, kwds)\u001b[0m\n\u001b[0;32m    602\u001b[0m _validate_names(kwds\u001b[38;5;241m.\u001b[39mget(\u001b[38;5;124m\"\u001b[39m\u001b[38;5;124mnames\u001b[39m\u001b[38;5;124m\"\u001b[39m, \u001b[38;5;28;01mNone\u001b[39;00m))\n\u001b[0;32m    604\u001b[0m \u001b[38;5;66;03m# Create the parser.\u001b[39;00m\n\u001b[1;32m--> 605\u001b[0m parser \u001b[38;5;241m=\u001b[39m TextFileReader(filepath_or_buffer, \u001b[38;5;241m*\u001b[39m\u001b[38;5;241m*\u001b[39mkwds)\n\u001b[0;32m    607\u001b[0m \u001b[38;5;28;01mif\u001b[39;00m chunksize \u001b[38;5;129;01mor\u001b[39;00m iterator:\n\u001b[0;32m    608\u001b[0m     \u001b[38;5;28;01mreturn\u001b[39;00m parser\n",
      "File \u001b[1;32m~\\AppData\\Roaming\\Python\\Python311\\site-packages\\pandas\\io\\parsers\\readers.py:1442\u001b[0m, in \u001b[0;36mTextFileReader.__init__\u001b[1;34m(self, f, engine, **kwds)\u001b[0m\n\u001b[0;32m   1439\u001b[0m     \u001b[38;5;28mself\u001b[39m\u001b[38;5;241m.\u001b[39moptions[\u001b[38;5;124m\"\u001b[39m\u001b[38;5;124mhas_index_names\u001b[39m\u001b[38;5;124m\"\u001b[39m] \u001b[38;5;241m=\u001b[39m kwds[\u001b[38;5;124m\"\u001b[39m\u001b[38;5;124mhas_index_names\u001b[39m\u001b[38;5;124m\"\u001b[39m]\n\u001b[0;32m   1441\u001b[0m \u001b[38;5;28mself\u001b[39m\u001b[38;5;241m.\u001b[39mhandles: IOHandles \u001b[38;5;241m|\u001b[39m \u001b[38;5;28;01mNone\u001b[39;00m \u001b[38;5;241m=\u001b[39m \u001b[38;5;28;01mNone\u001b[39;00m\n\u001b[1;32m-> 1442\u001b[0m \u001b[38;5;28mself\u001b[39m\u001b[38;5;241m.\u001b[39m_engine \u001b[38;5;241m=\u001b[39m \u001b[38;5;28mself\u001b[39m\u001b[38;5;241m.\u001b[39m_make_engine(f, \u001b[38;5;28mself\u001b[39m\u001b[38;5;241m.\u001b[39mengine)\n",
      "File \u001b[1;32m~\\AppData\\Roaming\\Python\\Python311\\site-packages\\pandas\\io\\parsers\\readers.py:1735\u001b[0m, in \u001b[0;36mTextFileReader._make_engine\u001b[1;34m(self, f, engine)\u001b[0m\n\u001b[0;32m   1733\u001b[0m     \u001b[38;5;28;01mif\u001b[39;00m \u001b[38;5;124m\"\u001b[39m\u001b[38;5;124mb\u001b[39m\u001b[38;5;124m\"\u001b[39m \u001b[38;5;129;01mnot\u001b[39;00m \u001b[38;5;129;01min\u001b[39;00m mode:\n\u001b[0;32m   1734\u001b[0m         mode \u001b[38;5;241m+\u001b[39m\u001b[38;5;241m=\u001b[39m \u001b[38;5;124m\"\u001b[39m\u001b[38;5;124mb\u001b[39m\u001b[38;5;124m\"\u001b[39m\n\u001b[1;32m-> 1735\u001b[0m \u001b[38;5;28mself\u001b[39m\u001b[38;5;241m.\u001b[39mhandles \u001b[38;5;241m=\u001b[39m get_handle(\n\u001b[0;32m   1736\u001b[0m     f,\n\u001b[0;32m   1737\u001b[0m     mode,\n\u001b[0;32m   1738\u001b[0m     encoding\u001b[38;5;241m=\u001b[39m\u001b[38;5;28mself\u001b[39m\u001b[38;5;241m.\u001b[39moptions\u001b[38;5;241m.\u001b[39mget(\u001b[38;5;124m\"\u001b[39m\u001b[38;5;124mencoding\u001b[39m\u001b[38;5;124m\"\u001b[39m, \u001b[38;5;28;01mNone\u001b[39;00m),\n\u001b[0;32m   1739\u001b[0m     compression\u001b[38;5;241m=\u001b[39m\u001b[38;5;28mself\u001b[39m\u001b[38;5;241m.\u001b[39moptions\u001b[38;5;241m.\u001b[39mget(\u001b[38;5;124m\"\u001b[39m\u001b[38;5;124mcompression\u001b[39m\u001b[38;5;124m\"\u001b[39m, \u001b[38;5;28;01mNone\u001b[39;00m),\n\u001b[0;32m   1740\u001b[0m     memory_map\u001b[38;5;241m=\u001b[39m\u001b[38;5;28mself\u001b[39m\u001b[38;5;241m.\u001b[39moptions\u001b[38;5;241m.\u001b[39mget(\u001b[38;5;124m\"\u001b[39m\u001b[38;5;124mmemory_map\u001b[39m\u001b[38;5;124m\"\u001b[39m, \u001b[38;5;28;01mFalse\u001b[39;00m),\n\u001b[0;32m   1741\u001b[0m     is_text\u001b[38;5;241m=\u001b[39mis_text,\n\u001b[0;32m   1742\u001b[0m     errors\u001b[38;5;241m=\u001b[39m\u001b[38;5;28mself\u001b[39m\u001b[38;5;241m.\u001b[39moptions\u001b[38;5;241m.\u001b[39mget(\u001b[38;5;124m\"\u001b[39m\u001b[38;5;124mencoding_errors\u001b[39m\u001b[38;5;124m\"\u001b[39m, \u001b[38;5;124m\"\u001b[39m\u001b[38;5;124mstrict\u001b[39m\u001b[38;5;124m\"\u001b[39m),\n\u001b[0;32m   1743\u001b[0m     storage_options\u001b[38;5;241m=\u001b[39m\u001b[38;5;28mself\u001b[39m\u001b[38;5;241m.\u001b[39moptions\u001b[38;5;241m.\u001b[39mget(\u001b[38;5;124m\"\u001b[39m\u001b[38;5;124mstorage_options\u001b[39m\u001b[38;5;124m\"\u001b[39m, \u001b[38;5;28;01mNone\u001b[39;00m),\n\u001b[0;32m   1744\u001b[0m )\n\u001b[0;32m   1745\u001b[0m \u001b[38;5;28;01massert\u001b[39;00m \u001b[38;5;28mself\u001b[39m\u001b[38;5;241m.\u001b[39mhandles \u001b[38;5;129;01mis\u001b[39;00m \u001b[38;5;129;01mnot\u001b[39;00m \u001b[38;5;28;01mNone\u001b[39;00m\n\u001b[0;32m   1746\u001b[0m f \u001b[38;5;241m=\u001b[39m \u001b[38;5;28mself\u001b[39m\u001b[38;5;241m.\u001b[39mhandles\u001b[38;5;241m.\u001b[39mhandle\n",
      "File \u001b[1;32m~\\AppData\\Roaming\\Python\\Python311\\site-packages\\pandas\\io\\common.py:856\u001b[0m, in \u001b[0;36mget_handle\u001b[1;34m(path_or_buf, mode, encoding, compression, memory_map, is_text, errors, storage_options)\u001b[0m\n\u001b[0;32m    851\u001b[0m \u001b[38;5;28;01melif\u001b[39;00m \u001b[38;5;28misinstance\u001b[39m(handle, \u001b[38;5;28mstr\u001b[39m):\n\u001b[0;32m    852\u001b[0m     \u001b[38;5;66;03m# Check whether the filename is to be opened in binary mode.\u001b[39;00m\n\u001b[0;32m    853\u001b[0m     \u001b[38;5;66;03m# Binary mode does not support 'encoding' and 'newline'.\u001b[39;00m\n\u001b[0;32m    854\u001b[0m     \u001b[38;5;28;01mif\u001b[39;00m ioargs\u001b[38;5;241m.\u001b[39mencoding \u001b[38;5;129;01mand\u001b[39;00m \u001b[38;5;124m\"\u001b[39m\u001b[38;5;124mb\u001b[39m\u001b[38;5;124m\"\u001b[39m \u001b[38;5;129;01mnot\u001b[39;00m \u001b[38;5;129;01min\u001b[39;00m ioargs\u001b[38;5;241m.\u001b[39mmode:\n\u001b[0;32m    855\u001b[0m         \u001b[38;5;66;03m# Encoding\u001b[39;00m\n\u001b[1;32m--> 856\u001b[0m         handle \u001b[38;5;241m=\u001b[39m \u001b[38;5;28mopen\u001b[39m(\n\u001b[0;32m    857\u001b[0m             handle,\n\u001b[0;32m    858\u001b[0m             ioargs\u001b[38;5;241m.\u001b[39mmode,\n\u001b[0;32m    859\u001b[0m             encoding\u001b[38;5;241m=\u001b[39mioargs\u001b[38;5;241m.\u001b[39mencoding,\n\u001b[0;32m    860\u001b[0m             errors\u001b[38;5;241m=\u001b[39merrors,\n\u001b[0;32m    861\u001b[0m             newline\u001b[38;5;241m=\u001b[39m\u001b[38;5;124m\"\u001b[39m\u001b[38;5;124m\"\u001b[39m,\n\u001b[0;32m    862\u001b[0m         )\n\u001b[0;32m    863\u001b[0m     \u001b[38;5;28;01melse\u001b[39;00m:\n\u001b[0;32m    864\u001b[0m         \u001b[38;5;66;03m# Binary mode\u001b[39;00m\n\u001b[0;32m    865\u001b[0m         handle \u001b[38;5;241m=\u001b[39m \u001b[38;5;28mopen\u001b[39m(handle, ioargs\u001b[38;5;241m.\u001b[39mmode)\n",
      "\u001b[1;31mFileNotFoundError\u001b[0m: [Errno 2] No such file or directory: 'concat_detections_+++_full.csv'"
     ]
    }
   ],
   "source": [
    "import pandas as pd\n",
    "import numpy as np\n",
    "import napari\n",
    "\n",
    "viewer = napari.Viewer()\n",
    "detections_csv = \"concat_detections_+++_full.csv\"\n",
    "df = pd.read_csv( detections_csv )\n",
    "#df.shape\n",
    "#df.head()\n",
    "\n",
    "# multiply coordinates by 1000 , order (x,y,z)\n",
    "np_posZXY = np.array( df[['Atlas_X', 'Atlas_Y','Atlas_Z']] , float) * 1000\n",
    "\n",
    "viewer.add_points( np_posZXY , \n",
    "                      size = 50 , \n",
    "                      name = \"ZXY-Mean\" ,\n",
    "                 )\n",
    "# manually open brainrender-napari and the atlas"
   ]
  },
  {
   "cell_type": "code",
   "execution_count": null,
   "id": "9d17e760",
   "metadata": {},
   "outputs": [],
   "source": [
    "np_posZXY"
   ]
  },
  {
   "cell_type": "code",
   "execution_count": null,
   "id": "40712b6a",
   "metadata": {},
   "outputs": [],
   "source": [
    "import brainglobe_heatmap as bgh\n",
    "\n",
    "\n",
    "planner = bgh.plan(\n",
    "    regions,\n",
    "    position=(\n",
    "        8000,\n",
    "        5000,\n",
    "        5000,\n",
    "    ),\n",
    "    orientation=\"frontal\",  # orientation, or 'sagittal', or 'horizontal' or a tuple (x,y,z)\n",
    "    thickness=2000,  # thickness of the slices used for rendering (in microns)\n",
    ")"
   ]
  },
  {
   "cell_type": "code",
   "execution_count": null,
   "id": "efc0c4de",
   "metadata": {},
   "outputs": [],
   "source": [
    "values = {\n",
    "    \"2Ssp\": 3.5,\n",
    "    \"3Sp\": 0.5,\n",
    "    \"IB\": -2,\n",
    "    \"5Sp\": -1,\n",
    "    \"7Sp\": -4,\n",
    "    \"LDCom\": 2.5,\n",
    "    \"10Sp\": 4,\n",
    "    \"D\": -3,\n",
    "    \"ICl\": -4,\n",
    "    \"6Sp\": 4,\n",
    "    \"gr\": 8,\n",
    "    \"vf\": -1,\n",
    "    \"rs\": -4,\n",
    "    \"LSp\": 7,\n",
    "    \"dcs\": -5,\n",
    "}"
   ]
  },
  {
   "cell_type": "code",
   "execution_count": null,
   "id": "c2dccf6f",
   "metadata": {},
   "outputs": [],
   "source": []
  },
  {
   "cell_type": "code",
   "execution_count": null,
   "id": "6f262386",
   "metadata": {},
   "outputs": [],
   "source": [
    "import brainglobe_heatmap as bgh\n",
    "\n",
    "\n",
    "planner = bgh.plan(\n",
    "    regions,\n",
    "    position=(\n",
    "        8000,\n",
    "        5000,\n",
    "        5000,\n",
    "    ),\n",
    "    orientation=\"frontal\",  # orientation, or 'sagittal', or 'horizontal' or a tuple (x,y,z)\n",
    "    thickness=2000,  # thickness of the slices used for rendering (in microns)\n",
    ")"
   ]
  },
  {
   "cell_type": "code",
   "execution_count": null,
   "id": "13c241d8",
   "metadata": {},
   "outputs": [],
   "source": [
    "f = bgh.heatmap(\n",
    "    values,\n",
    "    position=1000,\n",
    "    orientation=\"sagittal\",  # 'frontal' or 'sagittal', or 'horizontal' or a tuple (x,y,z)\n",
    "    thickness=1000,\n",
    "    atlas_name=\"allen_cord_20um\",\n",
    "    format='2D',\n",
    ").show()\n"
   ]
  },
  {
   "cell_type": "code",
   "execution_count": null,
   "id": "83c7e38b",
   "metadata": {},
   "outputs": [],
   "source": []
  },
  {
   "cell_type": "code",
   "execution_count": null,
   "id": "9b566712",
   "metadata": {},
   "outputs": [],
   "source": [
    "# \"\"\"\n",
    "#     This example shows how to use a PointsDensity\n",
    "#     actor to show the density of labelled cells\n",
    "# \"\"\"\n",
    "\n",
    "import random\n",
    "from pathlib import Path\n",
    "\n",
    "import numpy as np\n",
    "from myterial import orange\n",
    "from rich import print\n",
    "\n",
    "from vedo import settings\n",
    "settings.default_backend = \"vtk\"\n",
    "\n",
    "from brainrender import Scene\n",
    "from brainrender.actors import Points, PointsDensity\n",
    "\n",
    "# print(f\"[{orange}]Running example: {Path(__file__).name}\")\n",
    "\n",
    "\n",
    "def get_n_random_points_in_region(region, N):\n",
    "#     \"\"\"\n",
    "#     Gets N random points inside (or on the surface) of a mes\n",
    "#     \"\"\"\n",
    "\n",
    "    region_bounds = region.mesh.bounds()\n",
    "    X = np.random.randint(region_bounds[0], region_bounds[1], size=10000)\n",
    "    Y = np.random.randint(region_bounds[2], region_bounds[3], size=10000)\n",
    "    Z = np.random.randint(region_bounds[4], region_bounds[5], size=10000)\n",
    "    pts = [[x, y, z] for x, y, z in zip(X, Y, Z)]\n",
    "\n",
    "    ipts = region.mesh.inside_points(pts).vertices\n",
    "    return np.vstack(random.choices(ipts, k=N))\n",
    "\n",
    "\n",
    "scene = Scene(title=\"Labelled cells\", atlas_name=\"allen_mouse_25um\")\n",
    "\n",
    "# # Get a numpy array with (fake) coordinates of some labelled cells\n",
    "mos = scene.add_brain_region(\"MOs\", alpha=0.0)\n",
    "coordinates = get_n_random_points_in_region(mos, 2000)\n",
    "\n",
    "# Add to scene\n",
    "# scene.add(Points(coordinates, name=\"CELLS\", colors=\"salmon\"))\n",
    "# scene.add_brain_region(\"LAV\", alpha=1)\n",
    "# scene.add_brain_region(\"x\", alpha=1)\n",
    "scene.add(Points(np.array([[2787., 2150., 5200.]]), name=\"CELLS\", colors=\"salmon\"))\n",
    "\n",
    "\n",
    "\n",
    "# scene.add(PointsDensity(coordinates))\n",
    "\n",
    "# render\n",
    "scene.render()"
   ]
  },
  {
   "cell_type": "code",
   "execution_count": null,
   "id": "36361c8a",
   "metadata": {},
   "outputs": [],
   "source": []
  },
  {
   "cell_type": "code",
   "execution_count": null,
   "id": "54a1cabe",
   "metadata": {},
   "outputs": [],
   "source": [
    "# \"\"\"\n",
    "#     This example shows how to use visualize a heatmap in 2D\n",
    "# \"\"\"\n",
    "import matplotlib.pyplot as plt\n",
    "import brainglobe_heatmap as bgh\n",
    "\n",
    "output_dir = r'C:\\Users\\Salvo\\Desktop\\Anatomy_Function_VestibulospinalPathway_paper\\Anatomy_Function_VestibulospinalPathway_paper\\foo'\n",
    "\n",
    "\n",
    "values = dict(  # scalar values for each region\n",
    "    x = 3,\n",
    "    LAV=3,\n",
    "    SUV =3,\n",
    "    MV = 3,\n",
    "    SPIV=3,\n",
    "    y = 3, \n",
    "    V4 = 0\n",
    ")\n",
    "\n",
    "\n",
    "f = bgh.heatmap(\n",
    "    values,\n",
    "    # when using a named orientation, you can pass a single value!\n",
    "    position=11500,\n",
    "    # 'frontal' or 'sagittal,' or 'horizontal' or a tuple (x,y,z)\n",
    "    orientation=\"frontal\",\n",
    "    title=\"horizontal view\",\n",
    "    vmin=-5,\n",
    "    vmax=3,\n",
    "    format=\"2D\",\n",
    ").show()\n",
    "\n"
   ]
  },
  {
   "cell_type": "code",
   "execution_count": null,
   "id": "01400c9c",
   "metadata": {},
   "outputs": [],
   "source": [
    "from brainrender import Scene\n",
    "from brainrender import settings\n",
    "\n",
    "settings.SHOW_AXES = False\n",
    "\n",
    "# Create a brainrender scene\n",
    "scene = Scene(atlas_name=\"allen_mouse_25um\", inset=False)\n",
    "\n",
    "# Add brain regions\n",
    "scene.add_brain_region(\n",
    "    \"CP\", hemisphere=\"both\", color=\"green\", alpha=0.1, silhouette=True\n",
    ")\n",
    "scene.add_brain_region(\n",
    "    \"TH\", hemisphere=\"left\", color=\"blue\", alpha=0.3, silhouette=True\n",
    ")\n",
    "scene.add_brain_region(\n",
    "    \"VISp\", hemisphere=\"right\", color=\"orange\", alpha=0.4, silhouette=True\n",
    ")\n",
    "\n",
    "# Render!\n",
    "scene.render()"
   ]
  },
  {
   "cell_type": "code",
   "execution_count": null,
   "id": "44e8b054",
   "metadata": {},
   "outputs": [],
   "source": [
    "# # \"\"\"\n",
    "# #     This example shows how to use visualize a heatmap in 2D\n",
    "# # \"\"\"\n",
    "# import matplotlib.pyplot as plt\n",
    "# import brainglobe_heatmap as bgh\n",
    "\n",
    "# output_dir = r'C:\\Users\\Salvo\\Desktop\\Anatomy_Function_VestibulospinalPathway_paper\\Anatomy_Function_VestibulospinalPathway_paper\\foo'\n",
    "# output_file = r'heatmap.png'  # specify the file name and format\n",
    "\n",
    "# values = dict(  # scalar values for each region\n",
    "#     x = 3,\n",
    "#     LAV=3,\n",
    "#     SUV=3,\n",
    "#     MV=3,\n",
    "#     SPIV=3,\n",
    "#     y=3, \n",
    "#     V4=0\n",
    "# )\n",
    "\n",
    "# # Create the heatmap\n",
    "# f = bgh.heatmap(\n",
    "#     values,\n",
    "#     # when using a named orientation, you can pass a single value!\n",
    "#     position=11000,\n",
    "#     # 'frontal' or 'sagittal,' or 'horizontal' or a tuple (x,y,z)\n",
    "#     orientation=\"frontal\",\n",
    "#     title=\"horizontal view\",\n",
    "#     vmin=-5,\n",
    "#     vmax=3,\n",
    "#     format=\"2D\",\n",
    "# )\n",
    "\n",
    "# # Save the figure\n",
    "# plt.savefig(output_dir + '\\\\' + output_file)\n",
    "\n",
    "# # Optionally, you can still show the figure if needed\n",
    "# plt.show()\n"
   ]
  },
  {
   "cell_type": "code",
   "execution_count": null,
   "id": "4ca848f9",
   "metadata": {},
   "outputs": [],
   "source": [
    "# This gets all of the structures targeted by the Allen Brain Observatory project\n",
    "brain_observatory_structures = rsp.structure_tree.get_structures_by_set_id([514166994])\n",
    "brain_observatory_ids = [st['id'] for st in brain_observatory_structures]\n",
    "\n",
    "brain_observatory_mask = rsp.make_structure_mask(brain_observatory_ids)\n",
    "\n",
    "# view in horizontal section\n",
    "fig, ax = plt.subplots(figsize=(10, 10))\n",
    "plt.imshow(brain_observatory_mask[:, 40, :], interpolation='none', cmap=plt.cm.afmhot)"
   ]
  },
  {
   "cell_type": "code",
   "execution_count": null,
   "id": "5e1b7789",
   "metadata": {},
   "outputs": [],
   "source": []
  },
  {
   "cell_type": "code",
   "execution_count": null,
   "id": "b09ea90f",
   "metadata": {},
   "outputs": [],
   "source": []
  },
  {
   "cell_type": "code",
   "execution_count": null,
   "id": "d150563b",
   "metadata": {},
   "outputs": [],
   "source": [
    "import os\n",
    "\n",
    "# Get the current directory\n",
    "current_directory = os.getcwd()\n",
    "\n",
    "# List all files and directories in the current directory\n",
    "contents = os.listdir(current_directory)\n",
    "\n",
    "# Display the contents\n",
    "print(\"Contents of the current directory:\")\n",
    "for item in contents:\n",
    "    print(item)\n"
   ]
  },
  {
   "cell_type": "code",
   "execution_count": null,
   "id": "a044e91b",
   "metadata": {
    "scrolled": true
   },
   "outputs": [],
   "source": [
    "# import pandas as pd\n",
    "# import numpy as np\n",
    "# import napari\n",
    "# from bg_atlasapi.bg_atlas import BrainGlobeAtlas\n",
    "\n",
    "\n",
    "# verbose = True \n",
    "# atlas = BrainGlobeAtlas(\"allen_mouse_25um\")\n",
    "# viewer = napari.Viewer() #manuallly open \n",
    "# detections_csv = \"vestibular_nucleus_just_coordinates.xlsx\"\n",
    "\n",
    "# # read the csv\n",
    "# # df = pd.read_csv( detections_csv )\n",
    "# df = pd.read_excel(detections_csv)\n",
    "# #df.shape\n",
    "# #df.head()\n",
    "\n",
    "# df_light = df#[0:25000] # remove to process the whole set of points\n",
    "# if verbose : df_light.shape\n",
    "\n",
    "# np_posZXY = np.array( df_light[['x-axis', 'y-axis','z-axis']] , float) * 1000\n",
    "# if verbose : np_posZXY.shape\n",
    "\n",
    "# viewer.add_points( np_posZXY , \n",
    "#                       size = 50 , \n",
    "#                       name = \"ZXY-Mean\" ,\n",
    "#                  )\n",
    "\n",
    "# all_points = viewer.layers[0].data # indicate the points layer (0 based)\n",
    "# if verbose : len(all_points)\n",
    "\n",
    "# # Define the region we are  interested\n",
    "# region = \"LAV\" # \"CTX\", \"AON\" ..\n",
    "\n",
    "# # get ID of the region\n",
    "# points_in_parent = []\n",
    "# parent_id = atlas.structures.acronym_to_id_map[region ]\n",
    "# # if verbose : print(parent_id)\n",
    "\n",
    "# # get descendants names and their IDs\n",
    "# descendants_names = atlas.get_structure_descendants(parent_id)\n",
    "# descendants_ids = []\n",
    "# for name in descendants_names:\n",
    "#     descendants_ids.append( atlas.structures.acronym_to_id_map[name] ) \n",
    "    \n",
    "# # if verbose : print(descendants_ids)\n",
    "\n",
    "# # concatenate region and descendants IDs \n",
    "# parent_and_children_ids = descendants_ids + [ parent_id ]\n",
    "# # if verbose : print( parent_and_children_ids )   \n",
    "\n",
    "# # check points and IDs\n",
    "# for point in all_points:\n",
    "#     structure_point_belongs_to = atlas.structure_from_coords(point, microns=True) \n",
    "#     if structure_point_belongs_to in parent_and_children_ids:\n",
    "#         points_in_parent.append(point)\n",
    "\n",
    "# # Number of points in the Region\n",
    "# len(points_in_parent)"
   ]
  },
  {
   "cell_type": "code",
   "execution_count": null,
   "id": "8739d8cd",
   "metadata": {},
   "outputs": [],
   "source": []
  },
  {
   "cell_type": "code",
   "execution_count": null,
   "id": "cdae2a6e",
   "metadata": {
    "scrolled": true
   },
   "outputs": [],
   "source": [
    "# import pandas as pd\n",
    "# import numpy as np\n",
    "# import napari\n",
    "# from bg_atlasapi.bg_atlas import BrainGlobeAtlas\n",
    "\n",
    "# verbose = True \n",
    "# atlas = BrainGlobeAtlas(\"allen_mouse_25um\")\n",
    "# viewer = napari.Viewer()  # manually open \n",
    "# detections_csv = \"vestibular_nucleus_just_coordinates_M208.xlsx\"\n",
    "\n",
    "# # read the Excel file\n",
    "# df = pd.read_excel(detections_csv)\n",
    "# df_light = df  # Remove to process the whole set of points if needed\n",
    "\n",
    "# if verbose:\n",
    "#     print(df_light.shape)\n",
    "\n",
    "# np_posZXY = np.array(df_light[['x-axis', 'y-axis', 'z-axis']], float) * 1000\n",
    "\n",
    "# if verbose:\n",
    "#     print(np_posZXY.shape)\n",
    "\n",
    "# viewer.add_points(np_posZXY, size=50, name=\"ZXY-Mean\")\n",
    "\n",
    "# all_points = viewer.layers[0].data  # indicate the points layer (0 based)\n",
    "# if verbose:\n",
    "#     print(len(all_points))\n",
    "\n",
    "# # Define the regions we are interested in\n",
    "# regions = [\"LAV\", \"MV\", \"SPIV\", \"SUV\", \"x\", \"y\"]  # Add or remove regions as needed\n",
    "\n",
    "# # Define colors for each region\n",
    "# region_colors = {\n",
    "#     \"LAV\": 'red',\n",
    "#     \"MV\": 'green',\n",
    "#     \"SPIV\": 'blue',\n",
    "#     \"SUV\": 'yellow',\n",
    "#     \"x\": 'orange',\n",
    "#     \"y\": 'purple'\n",
    "# }\n",
    "\n",
    "# # Check points and assign colors based on regions\n",
    "# for region in regions:\n",
    "#     points_in_parent = []\n",
    "#     parent_id = atlas.structures.acronym_to_id_map[region]\n",
    "\n",
    "#     # Get descendants names and their IDs\n",
    "#     descendants_names = atlas.get_structure_descendants(parent_id)\n",
    "#     descendants_ids = [atlas.structures.acronym_to_id_map[name] for name in descendants_names]\n",
    "\n",
    "#     # Concatenate region and descendants IDs \n",
    "#     parent_and_children_ids = descendants_ids + [parent_id]\n",
    "\n",
    "#     # Check points and IDs\n",
    "#     for point in all_points:\n",
    "#         structure_point_belongs_to = atlas.structure_from_coords(point, microns=True)\n",
    "#         if structure_point_belongs_to in parent_and_children_ids:\n",
    "#             points_in_parent.append(point)\n",
    "\n",
    "#     # Number of points in the Region\n",
    "#     if verbose:\n",
    "#         perc_points_region = len(points_in_parent)/len(all_points)\n",
    "#         print(f\"Number of points in the region {region}: {len(points_in_parent)}\")\n",
    "# #         print(f\"Perc of points in the region {region}: {perc_points_region}\")\n",
    "\n",
    "#     # Convert points to a numpy array for mesh creation\n",
    "#     points_in_parent_np = np.array(points_in_parent)\n",
    "\n",
    "#     # Add the 3D mesh for the region of interest\n",
    "#     viewer.add_points(points_in_parent_np, size=50, name=f\"{region}-Points\", face_color=region_colors[region])\n",
    "# #     viewer.add_surface(parent_id, colormap=region_colors[region], name=f\"{region}-Surface\")\n"
   ]
  },
  {
   "cell_type": "code",
   "execution_count": 11,
   "id": "afebd942",
   "metadata": {},
   "outputs": [
    {
     "name": "stderr",
     "output_type": "stream",
     "text": [
      "WARNING: QWindowsWindow::setGeometry: Unable to set geometry 2172x1310+1284+556 (frame: 2194x1366+1273+511) on QWidgetWindow/\"_QtMainWindowClassWindow\" on \"\\\\.\\DISPLAY2\". Resulting geometry: 3260x1968+1287+570 (frame: 3282x2024+1276+525) margins: 11, 45, 11, 11 minimum size: 385x492 MINMAXINFO maxSize=0,0 maxpos=0,0 mintrack=792,1040 maxtrack=0,0)\n"
     ]
    },
    {
     "data": {
      "text/html": [
       "<pre style=\"white-space:pre;overflow-x:auto;line-height:normal;font-family:Menlo,'DejaVu Sans Mono',consolas,'Courier New',monospace\"><span style=\"font-weight: bold\">(</span><span style=\"color: #008080; text-decoration-color: #008080; font-weight: bold\">227</span>, <span style=\"color: #008080; text-decoration-color: #008080; font-weight: bold\">3</span><span style=\"font-weight: bold\">)</span>\n",
       "</pre>\n"
      ],
      "text/plain": [
       "\u001b[1m(\u001b[0m\u001b[1;36m227\u001b[0m, \u001b[1;36m3\u001b[0m\u001b[1m)\u001b[0m\n"
      ]
     },
     "metadata": {},
     "output_type": "display_data"
    },
    {
     "data": {
      "text/html": [
       "<pre style=\"white-space:pre;overflow-x:auto;line-height:normal;font-family:Menlo,'DejaVu Sans Mono',consolas,'Courier New',monospace\"><span style=\"font-weight: bold\">(</span><span style=\"color: #008080; text-decoration-color: #008080; font-weight: bold\">227</span>, <span style=\"color: #008080; text-decoration-color: #008080; font-weight: bold\">3</span><span style=\"font-weight: bold\">)</span>\n",
       "</pre>\n"
      ],
      "text/plain": [
       "\u001b[1m(\u001b[0m\u001b[1;36m227\u001b[0m, \u001b[1;36m3\u001b[0m\u001b[1m)\u001b[0m\n"
      ]
     },
     "metadata": {},
     "output_type": "display_data"
    },
    {
     "data": {
      "text/html": [
       "<pre style=\"white-space:pre;overflow-x:auto;line-height:normal;font-family:Menlo,'DejaVu Sans Mono',consolas,'Courier New',monospace\"><span style=\"color: #008080; text-decoration-color: #008080; font-weight: bold\">227</span>\n",
       "</pre>\n"
      ],
      "text/plain": [
       "\u001b[1;36m227\u001b[0m\n"
      ]
     },
     "metadata": {},
     "output_type": "display_data"
    },
    {
     "data": {
      "text/html": [
       "<pre style=\"white-space:pre;overflow-x:auto;line-height:normal;font-family:Menlo,'DejaVu Sans Mono',consolas,'Courier New',monospace\">Perc of points in the region LAV: <span style=\"color: #008080; text-decoration-color: #008080; font-weight: bold\">3.9647577092511015</span>\n",
       "</pre>\n"
      ],
      "text/plain": [
       "Perc of points in the region LAV: \u001b[1;36m3.9647577092511015\u001b[0m\n"
      ]
     },
     "metadata": {},
     "output_type": "display_data"
    },
    {
     "data": {
      "text/html": [
       "<pre style=\"white-space:pre;overflow-x:auto;line-height:normal;font-family:Menlo,'DejaVu Sans Mono',consolas,'Courier New',monospace\">Mesh for region LAV: <span style=\"font-weight: bold\">&lt;</span><span style=\"color: #ff00ff; text-decoration-color: #ff00ff; font-weight: bold\">meshio</span><span style=\"color: #000000; text-decoration-color: #000000\"> mesh object</span><span style=\"font-weight: bold\">&gt;</span>\n",
       "  Number of points: <span style=\"color: #008080; text-decoration-color: #008080; font-weight: bold\">455</span>\n",
       "  Number of cells:\n",
       "    triangle: <span style=\"color: #008080; text-decoration-color: #008080; font-weight: bold\">902</span>\n",
       "  Point data: obj:vn\n",
       "  Cell data: obj:group_ids\n",
       "</pre>\n"
      ],
      "text/plain": [
       "Mesh for region LAV: \u001b[1m<\u001b[0m\u001b[1;95mmeshio\u001b[0m\u001b[39m mesh object\u001b[0m\u001b[1m>\u001b[0m\n",
       "  Number of points: \u001b[1;36m455\u001b[0m\n",
       "  Number of cells:\n",
       "    triangle: \u001b[1;36m902\u001b[0m\n",
       "  Point data: obj:vn\n",
       "  Cell data: obj:group_ids\n"
      ]
     },
     "metadata": {},
     "output_type": "display_data"
    },
    {
     "data": {
      "text/html": [
       "<pre style=\"white-space:pre;overflow-x:auto;line-height:normal;font-family:Menlo,'DejaVu Sans Mono',consolas,'Courier New',monospace\">Perc of points in the region MV: <span style=\"color: #008080; text-decoration-color: #008080; font-weight: bold\">2.643171806167401</span>\n",
       "</pre>\n"
      ],
      "text/plain": [
       "Perc of points in the region MV: \u001b[1;36m2.643171806167401\u001b[0m\n"
      ]
     },
     "metadata": {},
     "output_type": "display_data"
    },
    {
     "data": {
      "text/html": [
       "<pre style=\"white-space:pre;overflow-x:auto;line-height:normal;font-family:Menlo,'DejaVu Sans Mono',consolas,'Courier New',monospace\">Mesh for region MV: <span style=\"font-weight: bold\">&lt;</span><span style=\"color: #ff00ff; text-decoration-color: #ff00ff; font-weight: bold\">meshio</span><span style=\"color: #000000; text-decoration-color: #000000\"> mesh object</span><span style=\"font-weight: bold\">&gt;</span>\n",
       "  Number of points: <span style=\"color: #008080; text-decoration-color: #008080; font-weight: bold\">1406</span>\n",
       "  Number of cells:\n",
       "    triangle: <span style=\"color: #008080; text-decoration-color: #008080; font-weight: bold\">2804</span>\n",
       "  Point data: obj:vn\n",
       "  Cell data: obj:group_ids\n",
       "</pre>\n"
      ],
      "text/plain": [
       "Mesh for region MV: \u001b[1m<\u001b[0m\u001b[1;95mmeshio\u001b[0m\u001b[39m mesh object\u001b[0m\u001b[1m>\u001b[0m\n",
       "  Number of points: \u001b[1;36m1406\u001b[0m\n",
       "  Number of cells:\n",
       "    triangle: \u001b[1;36m2804\u001b[0m\n",
       "  Point data: obj:vn\n",
       "  Cell data: obj:group_ids\n"
      ]
     },
     "metadata": {},
     "output_type": "display_data"
    },
    {
     "data": {
      "text/html": [
       "<pre style=\"white-space:pre;overflow-x:auto;line-height:normal;font-family:Menlo,'DejaVu Sans Mono',consolas,'Courier New',monospace\">Perc of points in the region SPIV: <span style=\"color: #008080; text-decoration-color: #008080; font-weight: bold\">55.06607929515418</span>\n",
       "</pre>\n"
      ],
      "text/plain": [
       "Perc of points in the region SPIV: \u001b[1;36m55.06607929515418\u001b[0m\n"
      ]
     },
     "metadata": {},
     "output_type": "display_data"
    },
    {
     "data": {
      "text/html": [
       "<pre style=\"white-space:pre;overflow-x:auto;line-height:normal;font-family:Menlo,'DejaVu Sans Mono',consolas,'Courier New',monospace\">Mesh for region SPIV: <span style=\"font-weight: bold\">&lt;</span><span style=\"color: #ff00ff; text-decoration-color: #ff00ff; font-weight: bold\">meshio</span><span style=\"color: #000000; text-decoration-color: #000000\"> mesh object</span><span style=\"font-weight: bold\">&gt;</span>\n",
       "  Number of points: <span style=\"color: #008080; text-decoration-color: #008080; font-weight: bold\">769</span>\n",
       "  Number of cells:\n",
       "    triangle: <span style=\"color: #008080; text-decoration-color: #008080; font-weight: bold\">1530</span>\n",
       "  Point data: obj:vn\n",
       "  Cell data: obj:group_ids\n",
       "</pre>\n"
      ],
      "text/plain": [
       "Mesh for region SPIV: \u001b[1m<\u001b[0m\u001b[1;95mmeshio\u001b[0m\u001b[39m mesh object\u001b[0m\u001b[1m>\u001b[0m\n",
       "  Number of points: \u001b[1;36m769\u001b[0m\n",
       "  Number of cells:\n",
       "    triangle: \u001b[1;36m1530\u001b[0m\n",
       "  Point data: obj:vn\n",
       "  Cell data: obj:group_ids\n"
      ]
     },
     "metadata": {},
     "output_type": "display_data"
    },
    {
     "data": {
      "text/html": [
       "<pre style=\"white-space:pre;overflow-x:auto;line-height:normal;font-family:Menlo,'DejaVu Sans Mono',consolas,'Courier New',monospace\">Perc of points in the region SUV: <span style=\"color: #008080; text-decoration-color: #008080; font-weight: bold\">16.740088105726873</span>\n",
       "</pre>\n"
      ],
      "text/plain": [
       "Perc of points in the region SUV: \u001b[1;36m16.740088105726873\u001b[0m\n"
      ]
     },
     "metadata": {},
     "output_type": "display_data"
    },
    {
     "data": {
      "text/html": [
       "<pre style=\"white-space:pre;overflow-x:auto;line-height:normal;font-family:Menlo,'DejaVu Sans Mono',consolas,'Courier New',monospace\">Mesh for region SUV: <span style=\"font-weight: bold\">&lt;</span><span style=\"color: #ff00ff; text-decoration-color: #ff00ff; font-weight: bold\">meshio</span><span style=\"color: #000000; text-decoration-color: #000000\"> mesh object</span><span style=\"font-weight: bold\">&gt;</span>\n",
       "  Number of points: <span style=\"color: #008080; text-decoration-color: #008080; font-weight: bold\">445</span>\n",
       "  Number of cells:\n",
       "    triangle: <span style=\"color: #008080; text-decoration-color: #008080; font-weight: bold\">882</span>\n",
       "  Point data: obj:vn\n",
       "  Cell data: obj:group_ids\n",
       "</pre>\n"
      ],
      "text/plain": [
       "Mesh for region SUV: \u001b[1m<\u001b[0m\u001b[1;95mmeshio\u001b[0m\u001b[39m mesh object\u001b[0m\u001b[1m>\u001b[0m\n",
       "  Number of points: \u001b[1;36m445\u001b[0m\n",
       "  Number of cells:\n",
       "    triangle: \u001b[1;36m882\u001b[0m\n",
       "  Point data: obj:vn\n",
       "  Cell data: obj:group_ids\n"
      ]
     },
     "metadata": {},
     "output_type": "display_data"
    },
    {
     "data": {
      "text/html": [
       "<pre style=\"white-space:pre;overflow-x:auto;line-height:normal;font-family:Menlo,'DejaVu Sans Mono',consolas,'Courier New',monospace\">Perc of points in the region x: <span style=\"color: #008080; text-decoration-color: #008080; font-weight: bold\">9.691629955947137</span>\n",
       "</pre>\n"
      ],
      "text/plain": [
       "Perc of points in the region x: \u001b[1;36m9.691629955947137\u001b[0m\n"
      ]
     },
     "metadata": {},
     "output_type": "display_data"
    },
    {
     "data": {
      "text/html": [
       "<pre style=\"white-space:pre;overflow-x:auto;line-height:normal;font-family:Menlo,'DejaVu Sans Mono',consolas,'Courier New',monospace\">Mesh for region x: <span style=\"font-weight: bold\">&lt;</span><span style=\"color: #ff00ff; text-decoration-color: #ff00ff; font-weight: bold\">meshio</span><span style=\"color: #000000; text-decoration-color: #000000\"> mesh object</span><span style=\"font-weight: bold\">&gt;</span>\n",
       "  Number of points: <span style=\"color: #008080; text-decoration-color: #008080; font-weight: bold\">155</span>\n",
       "  Number of cells:\n",
       "    triangle: <span style=\"color: #008080; text-decoration-color: #008080; font-weight: bold\">302</span>\n",
       "  Point data: obj:vn\n",
       "  Cell data: obj:group_ids\n",
       "</pre>\n"
      ],
      "text/plain": [
       "Mesh for region x: \u001b[1m<\u001b[0m\u001b[1;95mmeshio\u001b[0m\u001b[39m mesh object\u001b[0m\u001b[1m>\u001b[0m\n",
       "  Number of points: \u001b[1;36m155\u001b[0m\n",
       "  Number of cells:\n",
       "    triangle: \u001b[1;36m302\u001b[0m\n",
       "  Point data: obj:vn\n",
       "  Cell data: obj:group_ids\n"
      ]
     },
     "metadata": {},
     "output_type": "display_data"
    },
    {
     "data": {
      "text/html": [
       "<pre style=\"white-space:pre;overflow-x:auto;line-height:normal;font-family:Menlo,'DejaVu Sans Mono',consolas,'Courier New',monospace\">Perc of points in the region y: <span style=\"color: #008080; text-decoration-color: #008080; font-weight: bold\">0.4405286343612335</span>\n",
       "</pre>\n"
      ],
      "text/plain": [
       "Perc of points in the region y: \u001b[1;36m0.4405286343612335\u001b[0m\n"
      ]
     },
     "metadata": {},
     "output_type": "display_data"
    },
    {
     "data": {
      "text/html": [
       "<pre style=\"white-space:pre;overflow-x:auto;line-height:normal;font-family:Menlo,'DejaVu Sans Mono',consolas,'Courier New',monospace\">Mesh for region y: <span style=\"font-weight: bold\">&lt;</span><span style=\"color: #ff00ff; text-decoration-color: #ff00ff; font-weight: bold\">meshio</span><span style=\"color: #000000; text-decoration-color: #000000\"> mesh object</span><span style=\"font-weight: bold\">&gt;</span>\n",
       "  Number of points: <span style=\"color: #008080; text-decoration-color: #008080; font-weight: bold\">74</span>\n",
       "  Number of cells:\n",
       "    triangle: <span style=\"color: #008080; text-decoration-color: #008080; font-weight: bold\">140</span>\n",
       "  Point data: obj:vn\n",
       "  Cell data: obj:group_ids\n",
       "</pre>\n"
      ],
      "text/plain": [
       "Mesh for region y: \u001b[1m<\u001b[0m\u001b[1;95mmeshio\u001b[0m\u001b[39m mesh object\u001b[0m\u001b[1m>\u001b[0m\n",
       "  Number of points: \u001b[1;36m74\u001b[0m\n",
       "  Number of cells:\n",
       "    triangle: \u001b[1;36m140\u001b[0m\n",
       "  Point data: obj:vn\n",
       "  Cell data: obj:group_ids\n"
      ]
     },
     "metadata": {},
     "output_type": "display_data"
    }
   ],
   "source": [
    "import pandas as pd\n",
    "import numpy as np\n",
    "import napari\n",
    "from bg_atlasapi.bg_atlas import BrainGlobeAtlas\n",
    "\n",
    "verbose = True \n",
    "atlas = BrainGlobeAtlas(\"allen_mouse_25um\")\n",
    "viewer = napari.Viewer()  # manually open \n",
    "detections_csv = \"vestibular_nucleus_just_coordinates_M204_8_9.xlsx\"\n",
    "\n",
    "# read the Excel file\n",
    "df = pd.read_excel(detections_csv)\n",
    "df_light = df  # Remove to process the whole set of points if needed\n",
    "\n",
    "if verbose:\n",
    "    print(df_light.shape)\n",
    "\n",
    "np_posZXY = np.array(df_light[['x-axis', 'y-axis', 'z-axis']], float) * 1000\n",
    "\n",
    "if verbose:\n",
    "    print(np_posZXY.shape)\n",
    "\n",
    "viewer.add_points(np_posZXY, size=50, name=\"ZXY-Mean\")\n",
    "\n",
    "all_points = viewer.layers[0].data  # indicate the points layer (0 based)\n",
    "if verbose:\n",
    "    print(len(all_points))\n",
    "\n",
    "# Define the regions we are interested in\n",
    "regions = [\"LAV\", \"MV\", \"SPIV\", \"SUV\", \"x\", \"y\"]  # Add or remove regions as needed\n",
    "\n",
    "# Define colors for each region\n",
    "region_colors = {\n",
    "    \"LAV\": (1, 0, 0, 1),    # red\n",
    "    \"MV\": (0, 1, 0, 1),     # green\n",
    "    \"SPIV\": (0, 0, 1, 1),   # blue\n",
    "    \"SUV\": (1, 1, 0, 1),    # yellow\n",
    "    \"x\": (1, 0.65, 0, 1),   # orange\n",
    "    \"y\": (0.5, 0, 0.5, 1)   # purple\n",
    "}\n",
    "\n",
    "# Check points and assign colors based on regions\n",
    "for region in regions:\n",
    "    points_in_parent = []\n",
    "    parent_id = atlas.structures.acronym_to_id_map[region]\n",
    "\n",
    "    # Get descendants names and their IDs\n",
    "    descendants_names = atlas.get_structure_descendants(parent_id)\n",
    "    descendants_ids = [atlas.structures.acronym_to_id_map[name] for name in descendants_names]\n",
    "\n",
    "    # Concatenate region and descendants IDs \n",
    "    parent_and_children_ids = descendants_ids + [parent_id]\n",
    "\n",
    "    # Check points and IDs\n",
    "    for point in all_points:\n",
    "        structure_point_belongs_to = atlas.structure_from_coords(point, microns=True)\n",
    "        if structure_point_belongs_to in parent_and_children_ids:\n",
    "            points_in_parent.append(point)\n",
    "\n",
    "    # Number of points in the Region\n",
    "    if verbose:\n",
    "        perc_points_region = len(points_in_parent) / len(all_points)\n",
    "#         print(f\"Number of points in the region {region}: {len(points_in_parent)}\")\n",
    "        print(f\"Perc of points in the region {region}: {perc_points_region*100}\")\n",
    "\n",
    "    # Convert points to a numpy array for mesh creation\n",
    "    points_in_parent_np = np.array(points_in_parent)\n",
    "\n",
    "    # Add the 3D mesh for the region of interest\n",
    "    if len(points_in_parent_np) > 0:  # Ensure there are points to add\n",
    "        viewer.add_points(points_in_parent_np, size=50, name=f\"{region}-Points\", face_color=[region_colors[region]]*len(points_in_parent_np))\n",
    "\n",
    "    # Retrieve the mesh for the region\n",
    "    mesh = atlas.mesh_from_structure(region)\n",
    "\n",
    "    # Print the mesh object to inspect its structure\n",
    "    if verbose:\n",
    "        print(f\"Mesh for region {region}: {mesh}\")\n",
    "\n",
    "    # Add the mesh to the viewer\n",
    "    if mesh:\n",
    "        points, faces = mesh.points, mesh.cells_dict[\"triangle\"]\n",
    "        viewer.add_surface((points, faces), name=f\"{region}-Mesh\", colormap=region_colors[region])\n",
    "\n",
    "# Start Napari\n",
    "napari.run()\n"
   ]
  },
  {
   "cell_type": "code",
   "execution_count": null,
   "id": "037bf090",
   "metadata": {},
   "outputs": [],
   "source": [
    "import numpy as np\n",
    "import matplotlib.pyplot as plt  # Import matplotlib.pyplot and alias it as plt\n",
    "from allensdk.core.reference_space_cache import ReferenceSpaceCache\n",
    "import os\n",
    "from pathlib import Path  # Import Path from pathlib\n",
    "\n",
    "output_dir = r'C:\\Users\\Salvo\\Desktop\\Anatomy_Function_VestibulospinalPathway_paper\\Anatomy_Function_VestibulospinalPathway_paper\\foo'\n",
    "\n",
    "reference_space_key = 'annotation/ccf_2017'  # Use forward slashes\n",
    "resolution = 25\n",
    "rspc = ReferenceSpaceCache(resolution, reference_space_key, manifest=Path(output_dir) / 'manifest.json')\n",
    "# ID 1 is the adult mouse structure graph\n",
    "tree = rspc.get_structure_tree(structure_graph_id=1) \n",
    "\n",
    "rsp = rspc.get_reference_space()\n",
    "\n",
    "fig, ax = plt.subplots(figsize=(10, 10))\n",
    "plt.imshow(rsp.get_slice_image(0, 11000), interpolation='none')\n",
    "\n",
    "# Save the image\n",
    "output_image_path = Path(output_dir) / 'slice_image.svg'\n",
    "plt.savefig(output_image_path, format='svg', dpi=300)\n",
    "\n",
    "# Optional: Show the image (for verification)\n",
    "plt.show()"
   ]
  },
  {
   "cell_type": "code",
   "execution_count": null,
   "id": "0506867e",
   "metadata": {},
   "outputs": [],
   "source": [
    "reference_space_key"
   ]
  },
  {
   "cell_type": "code",
   "execution_count": null,
   "id": "4be81487",
   "metadata": {},
   "outputs": [],
   "source": []
  },
  {
   "cell_type": "code",
   "execution_count": null,
   "id": "e1c67d3f",
   "metadata": {},
   "outputs": [],
   "source": []
  },
  {
   "cell_type": "code",
   "execution_count": null,
   "id": "bb0aa081",
   "metadata": {},
   "outputs": [],
   "source": [
    "# import pandas as pd\n",
    "# import numpy as np\n",
    "# import napari\n",
    "# from bg_atlasapi.bg_atlas import BrainGlobeAtlas\n",
    "\n",
    "# verbose = True \n",
    "# atlas = BrainGlobeAtlas(\"allen_mouse_25um\")\n",
    "# viewer = napari.Viewer()  # manually open \n",
    "# detections_csv = \"vestibular_nucleus_just_coordinates_M208.xlsx\"\n",
    "\n",
    "# # read the Excel file\n",
    "# df = pd.read_excel(detections_csv)\n",
    "# df_light = df  # Remove to process the whole set of points if needed\n",
    "\n",
    "# if verbose:\n",
    "#     print(df_light.shape)\n",
    "\n",
    "# np_posZXY = np.array(df_light[['x-axis', 'y-axis', 'z-axis']], float) * 1000\n",
    "\n",
    "# if verbose:\n",
    "#     print(np_posZXY.shape)\n",
    "\n",
    "# viewer.add_points(np_posZXY, size=50, name=\"ZXY-Mean\")\n",
    "\n",
    "# all_points = viewer.layers[0].data  # indicate the points layer (0 based)\n",
    "# if verbose:\n",
    "#     print(len(all_points))\n",
    "\n",
    "# # Define the regions we are interested in\n",
    "# regions = [\"LAV\", \"MV\", \"SPIV\", \"SUV\", \"x\", \"y\"]  # Add or remove regions as needed\n",
    "\n",
    "# # Define colors for each region\n",
    "# region_colors = {\n",
    "#     \"LAV\": 'red',\n",
    "#     \"MV\": 'green',\n",
    "#     \"SPIV\": 'blue',\n",
    "#     \"SUV\": 'yellow',\n",
    "#     \"x\": 'orange',\n",
    "#     \"y\": 'purple'\n",
    "# }\n",
    "\n",
    "# # Check points and assign colors based on regions\n",
    "# for region in regions:\n",
    "#     points_in_parent = []\n",
    "#     parent_id = atlas.structures.acronym_to_id_map[region]\n",
    "\n",
    "#     # Get descendants names and their IDs\n",
    "#     descendants_names = atlas.get_structure_descendants(parent_id)\n",
    "#     descendants_ids = [atlas.structures.acronym_to_id_map[name] for name in descendants_names]\n",
    "\n",
    "#     # Concatenate region and descendants IDs \n",
    "#     parent_and_children_ids = descendants_ids + [parent_id]\n",
    "\n",
    "#     # Check points and IDs\n",
    "#     for point in all_points:\n",
    "#         structure_point_belongs_to = atlas.structure_from_coords(point, microns=True)\n",
    "#         if structure_point_belongs_to in parent_and_children_ids:\n",
    "#             points_in_parent.append(point)\n",
    "\n",
    "#     # Number of points in the Region\n",
    "#     if verbose:\n",
    "#         perc_points_region = len(points_in_parent) / len(all_points)\n",
    "#         print(f\"Number of points in the region {region}: {len(points_in_parent)}\")\n",
    "#         print(f\"Perc of points in the region {region}: {perc_points_region}\")\n",
    "\n",
    "#     # Convert points to a numpy array for mesh creation\n",
    "#     points_in_parent_np = np.array(points_in_parent)\n",
    "\n",
    "#     # Add the 3D mesh for the region of interest\n",
    "#     if points_in_parent_np.size > 0:\n",
    "#         try:\n",
    "#             mesh = atlas.mesh_from_structure(parent_id)\n",
    "#             vertices, faces = mesh.vertices, mesh.faces\n",
    "#             # Add the surface to the viewer\n",
    "# #             viewer.add_surface((vertices, faces, np.ones(vertices.shape[0])), colormap=region_colors[region], name=f\"{region}-Surface\")\n",
    "#             mesh = self.bg_atlas.mesh_from_structure(region, colormap=region_colors[region])\n",
    "#         except Exception as e:\n",
    "#             print(f\"Could not load mesh for region {region}: {e}\")\n",
    "        \n",
    "#     # Add the points for the region of interest\n",
    "#     viewer.add_points(points_in_parent_np, size=50, name=f\"{region}-Points\", face_color=region_colors[region])\n",
    "\n",
    "    \n",
    "#     # Retrieve the mesh for the region\n",
    "#     mesh = atlas.mesh_from_structure(region)\n",
    "\n",
    "#     # Print the mesh object to inspect its structure\n",
    "#     if verbose:\n",
    "#         print(f\"Mesh for region {region}: {mesh}\")\n",
    "\n",
    "#     # Add the mesh to the viewer\n",
    "#     if mesh:\n",
    "#         points, faces = mesh.points, mesh.cells_dict[\"triangle\"]\n",
    "#         viewer.add_surface((points, faces), name=f\"{region}-Mesh\", colormap=region_colors[region])\n",
    "\n",
    "# # Start Napari\n",
    "# napari.run()"
   ]
  },
  {
   "cell_type": "code",
   "execution_count": null,
   "id": "5fc50e1a",
   "metadata": {},
   "outputs": [],
   "source": []
  },
  {
   "cell_type": "code",
   "execution_count": null,
   "id": "c9aa8bf4",
   "metadata": {},
   "outputs": [],
   "source": []
  },
  {
   "cell_type": "code",
   "execution_count": null,
   "id": "29dc38d1",
   "metadata": {},
   "outputs": [],
   "source": []
  },
  {
   "cell_type": "code",
   "execution_count": null,
   "id": "30233712",
   "metadata": {},
   "outputs": [],
   "source": []
  },
  {
   "cell_type": "code",
   "execution_count": null,
   "id": "102073fb",
   "metadata": {},
   "outputs": [],
   "source": []
  },
  {
   "cell_type": "code",
   "execution_count": null,
   "id": "3c2fb684",
   "metadata": {},
   "outputs": [],
   "source": []
  },
  {
   "cell_type": "code",
   "execution_count": null,
   "id": "bc82c2ea",
   "metadata": {},
   "outputs": [],
   "source": []
  },
  {
   "cell_type": "code",
   "execution_count": 10,
   "id": "5fd6fcb3",
   "metadata": {},
   "outputs": [
    {
     "name": "stderr",
     "output_type": "stream",
     "text": [
      "WARNING: QWindowsWindow::setGeometry: Unable to set geometry 2172x1310+1280+556 (frame: 2194x1366+1269+511) on QWidgetWindow/\"_QtMainWindowClassWindow\" on \"\\\\.\\DISPLAY2\". Resulting geometry: 3260x1968+1283+570 (frame: 3282x2024+1272+525) margins: 11, 45, 11, 11 minimum size: 385x492 MINMAXINFO maxSize=0,0 maxpos=0,0 mintrack=792,1040 maxtrack=0,0)\n"
     ]
    }
   ],
   "source": [
    "import numpy as np\n",
    "import napari\n",
    "\n",
    "viewer = napari.Viewer() \n",
    "\n",
    "# Make an Image\n",
    "image_range = 20\n",
    "square = np.zeros((image_range , 128, 128)) # make a 0 background stack with 20z 128x128\n",
    "square[ : , 32:64 , 32:64] = 128 # make a square on all slices\n",
    "\n",
    "# Make a list of  Points\n",
    "points_range = 500\n",
    "XYZ = np.random.rand( 50 , 3  ) \n",
    "posXYZ = XYZ * ( points_range , 128 ,128)\n",
    "point_properties = {\n",
    "    'confidence': np.ndarray.flatten( np.random.rand( 50 , 1  ) ), # to add random colors to the point for visibility\n",
    "}\n",
    "\n",
    "#Add to viewer \n",
    "range_ratio = points_range / image_range\n",
    "\n",
    "viewer.add_image(square ,  scale=( range_ratio ,1,1) ,  contrast_limits = (0,512) , opacity=0.5 ) \n",
    "\n",
    "viewer.add_points( posXYZ , \n",
    "                      properties=point_properties,\n",
    "                      face_color='confidence',\n",
    "                      face_colormap='viridis',\n",
    "                 )\n",
    "\n",
    "viewer.dims.set_range(0, (0 , 500 , 1) ) # this is the default, with this example one can see all the points\n",
    "\n",
    "# After running\n",
    "viewer.dims.set_range(0, (0 , 500 , range_ratio ) )\n",
    "# Only a few dots are visible (if they are exactly at the coordinates of the slice \n",
    "\n",
    "# feature request / bug correction : project the points positioned at +/-(range_ratio / 2) around the slice"
   ]
  },
  {
   "cell_type": "code",
   "execution_count": null,
   "id": "9bd30df1",
   "metadata": {},
   "outputs": [],
   "source": [
    "##########################RUN THE NEXT TWO CELLS TO GET THE VOLUME OF THE MESH"
   ]
  },
  {
   "cell_type": "code",
   "execution_count": null,
   "id": "97db86b8",
   "metadata": {},
   "outputs": [],
   "source": [
    "import napari\n",
    "import trimesh\n",
    "\n",
    "viewer = napari.Viewer()\n",
    "\n",
    "# mesh_idx = 2\n",
    "# mesh_layer = viewer.layers[mesh_idx]\n",
    "\n",
    "# myMesh = trimesh.Trimesh(vertices=mesh_layer.vertices , faces=mesh_layer.faces )"
   ]
  },
  {
   "cell_type": "code",
   "execution_count": null,
   "id": "555077ad",
   "metadata": {},
   "outputs": [],
   "source": [
    "mesh_idx = 2\n",
    "mesh_layer = viewer.layers[mesh_idx]\n",
    "\n",
    "myMesh = trimesh.Trimesh(vertices=mesh_layer.vertices , faces=mesh_layer.faces )"
   ]
  },
  {
   "cell_type": "code",
   "execution_count": null,
   "id": "6fcced67",
   "metadata": {},
   "outputs": [],
   "source": [
    "myMesh"
   ]
  },
  {
   "cell_type": "code",
   "execution_count": null,
   "id": "c0671424",
   "metadata": {},
   "outputs": [],
   "source": []
  },
  {
   "cell_type": "code",
   "execution_count": null,
   "id": "7b9e365c",
   "metadata": {},
   "outputs": [],
   "source": [
    "# from PIL import Image\n",
    "# import numpy as np\n",
    "# import cv2\n",
    "# import matplotlib.pyplot as plt\n",
    "# import plotly.express as px\n",
    "# import plotly.graph_objs as go\n",
    "\n",
    "\n",
    "# def plot_density_map_and_histogram_from_tiff(tiff_file):\n",
    "#     \"\"\"\n",
    "#     Read a TIFF file, plot its density map, and display its pixel intensity distribution.\n",
    "\n",
    "#     Parameters:\n",
    "#         tiff_file (str): Path to the TIFF file.\n",
    "\n",
    "#     Returns:\n",
    "#         None\n",
    "#     \"\"\"\n",
    "#     try:\n",
    "#         # Read the TIFF file using PIL\n",
    "#         with Image.open(tiff_file) as img:\n",
    "#             # Convert the image to grayscale\n",
    "#             image = np.array(img.convert('L'))\n",
    "#             print(image)\n",
    "\n",
    "#             # Plot density map using Plotly Express\n",
    "#             fig = px.imshow(image, color_continuous_scale='gray')\n",
    "#             fig.update_layout(title='Density Map')\n",
    "#             fig.show()\n",
    "\n",
    "#             # Plot density map using Plotly\n",
    "#             fig = go.Figure(go.Histogram2dContour(x=image.flatten(), y=image.flatten(), colorscale='Blues'))\n",
    "#             fig.update_layout(title='Density Map')\n",
    "#             fig.show()\n",
    "\n",
    "\n",
    "#         # Plot histogram\n",
    "#         plt.figure(figsize=(10, 5))\n",
    "#         plt.hist(image.ravel(), bins=256, color='gray')\n",
    "#         plt.title('Pixel Intensity Distribution')\n",
    "#         plt.xlabel('Pixel Intensity')\n",
    "#         plt.ylabel('Frequency')\n",
    "#         plt.show()\n",
    "\n",
    "#     except Exception as e:\n",
    "#         print(f\"Error: {e}\")\n",
    "\n",
    "# # Example usage:\n",
    "# # plot_density_map_and_histogram_from_tiff(\"your_tiff_file_path.tif\")\n"
   ]
  },
  {
   "cell_type": "code",
   "execution_count": null,
   "id": "c3f87ee4",
   "metadata": {},
   "outputs": [],
   "source": [
    "# tiff_file = \"C:\\\\Users\\\\Salvo\\\\Downloads\\\\AVG_M204208209S3.tif\"\n",
    "# plot_density_map_and_histogram_from_tiff(tiff_file)"
   ]
  },
  {
   "cell_type": "code",
   "execution_count": null,
   "id": "b600a6ed",
   "metadata": {},
   "outputs": [],
   "source": []
  },
  {
   "cell_type": "code",
   "execution_count": null,
   "id": "bdb5e181",
   "metadata": {},
   "outputs": [],
   "source": []
  },
  {
   "cell_type": "code",
   "execution_count": null,
   "id": "1c083f20",
   "metadata": {},
   "outputs": [],
   "source": []
  },
  {
   "cell_type": "code",
   "execution_count": null,
   "id": "b21b735f",
   "metadata": {},
   "outputs": [],
   "source": []
  },
  {
   "cell_type": "code",
   "execution_count": null,
   "id": "ee624e70",
   "metadata": {},
   "outputs": [],
   "source": []
  },
  {
   "cell_type": "code",
   "execution_count": null,
   "id": "fee67119",
   "metadata": {},
   "outputs": [],
   "source": []
  },
  {
   "cell_type": "code",
   "execution_count": null,
   "id": "e45ee97e",
   "metadata": {},
   "outputs": [],
   "source": []
  }
 ],
 "metadata": {
  "kernelspec": {
   "display_name": "Python [conda env:base] *",
   "language": "python",
   "name": "conda-base-py"
  },
  "language_info": {
   "codemirror_mode": {
    "name": "ipython",
    "version": 3
   },
   "file_extension": ".py",
   "mimetype": "text/x-python",
   "name": "python",
   "nbconvert_exporter": "python",
   "pygments_lexer": "ipython3",
   "version": "3.12.7"
  }
 },
 "nbformat": 4,
 "nbformat_minor": 5
}

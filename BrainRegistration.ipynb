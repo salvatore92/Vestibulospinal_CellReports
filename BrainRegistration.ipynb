{
 "cells": [
  {
   "cell_type": "code",
   "execution_count": null,
   "id": "0b695ce3",
   "metadata": {},
   "outputs": [],
   "source": [
    "from bg_atlasapi import show_atlases\n",
    "show_atlases()"
   ]
  },
  {
   "cell_type": "code",
   "execution_count": 2,
   "id": "4c411b0a",
   "metadata": {},
   "outputs": [
    {
     "data": {
      "text/html": [
       "<pre style=\"white-space:pre;overflow-x:auto;line-height:normal;font-family:Menlo,'DejaVu Sans Mono',consolas,'Courier New',monospace\"><span style=\"color: #ff00d7; text-decoration-color: #ff00d7\">Bgatlas_api: allen_cord_20um not found locally. Downloading...</span>\n",
       "</pre>\n"
      ],
      "text/plain": [
       "\u001b[38;5;200mBgatlas_api: allen_cord_20um not found locally. Downloading\u001b[0m\u001b[38;5;200m...\u001b[0m\n"
      ]
     },
     "metadata": {},
     "output_type": "display_data"
    },
    {
     "data": {
      "application/vnd.jupyter.widget-view+json": {
       "model_id": "7ebebc0641ff4d75ad01bdb238aa2703",
       "version_major": 2,
       "version_minor": 0
      },
      "text/plain": [
       "Output()"
      ]
     },
     "metadata": {},
     "output_type": "display_data"
    },
    {
     "data": {
      "text/html": [
       "<pre style=\"white-space:pre;overflow-x:auto;line-height:normal;font-family:Menlo,'DejaVu Sans Mono',consolas,'Courier New',monospace\"></pre>\n"
      ],
      "text/plain": []
     },
     "metadata": {},
     "output_type": "display_data"
    },
    {
     "data": {
      "text/html": [
       "<pre style=\"white-space:pre;overflow-x:auto;line-height:normal;font-family:Menlo,'DejaVu Sans Mono',consolas,'Courier New',monospace\">\n",
       "</pre>\n"
      ],
      "text/plain": [
       "\n"
      ]
     },
     "metadata": {},
     "output_type": "display_data"
    }
   ],
   "source": [
    "from bg_atlasapi.bg_atlas import BrainGlobeAtlas\n",
    "atlas = BrainGlobeAtlas(\"allen_cord_20um\")"
   ]
  },
  {
   "cell_type": "code",
   "execution_count": 3,
   "id": "d806958b",
   "metadata": {},
   "outputs": [
    {
     "name": "stdout",
     "output_type": "stream",
     "text": [
      "(1567, 253, 322)\n",
      "(1567, 253, 322)\n",
      "(1567, 253, 322)\n"
     ]
    }
   ],
   "source": [
    "# reference image\n",
    "reference_image = atlas.reference\n",
    "print(reference_image.shape)\n",
    "# (528, 320, 456)\n",
    "\n",
    "# annotation image\n",
    "annotation_image = atlas.annotation\n",
    "print(annotation_image.shape)\n",
    "# (528, 320, 456)\n",
    "\n",
    "# a hemispheres image (value 1 in left hemisphere, 2 in right) can be generated\n",
    "hemispheres_image = atlas.hemispheres\n",
    "print(hemispheres_image.shape)\n",
    "# (528, 320, 456)"
   ]
  },
  {
   "cell_type": "code",
   "execution_count": null,
   "id": "71014aad",
   "metadata": {},
   "outputs": [],
   "source": []
  },
  {
   "cell_type": "code",
   "execution_count": 1,
   "id": "2796e88f",
   "metadata": {},
   "outputs": [
    {
     "ename": "AttributeError",
     "evalue": "'Mesh' object has no attribute 'inside_points'",
     "output_type": "error",
     "traceback": [
      "\u001b[1;31m---------------------------------------------------------------------------\u001b[0m",
      "\u001b[1;31mAttributeError\u001b[0m                            Traceback (most recent call last)",
      "\u001b[1;32m<ipython-input-1-d55e0b4b9ed3>\u001b[0m in \u001b[0;36m<module>\u001b[1;34m\u001b[0m\n\u001b[0;32m     31\u001b[0m \u001b[1;31m# Get a numpy array with (fake) coordinates of some labelled cells\u001b[0m\u001b[1;33m\u001b[0m\u001b[1;33m\u001b[0m\u001b[1;33m\u001b[0m\u001b[0m\n\u001b[0;32m     32\u001b[0m \u001b[0mmos\u001b[0m \u001b[1;33m=\u001b[0m \u001b[0mscene\u001b[0m\u001b[1;33m.\u001b[0m\u001b[0madd_brain_region\u001b[0m\u001b[1;33m(\u001b[0m\u001b[1;34m\"MOs\"\u001b[0m\u001b[1;33m,\u001b[0m \u001b[0malpha\u001b[0m\u001b[1;33m=\u001b[0m\u001b[1;36m0.0\u001b[0m\u001b[1;33m)\u001b[0m\u001b[1;33m\u001b[0m\u001b[1;33m\u001b[0m\u001b[0m\n\u001b[1;32m---> 33\u001b[1;33m \u001b[0mcoordinates\u001b[0m \u001b[1;33m=\u001b[0m \u001b[0mget_n_random_points_in_region\u001b[0m\u001b[1;33m(\u001b[0m\u001b[0mmos\u001b[0m\u001b[1;33m,\u001b[0m \u001b[1;36m2000\u001b[0m\u001b[1;33m)\u001b[0m\u001b[1;33m\u001b[0m\u001b[1;33m\u001b[0m\u001b[0m\n\u001b[0m\u001b[0;32m     34\u001b[0m \u001b[1;33m\u001b[0m\u001b[0m\n\u001b[0;32m     35\u001b[0m \u001b[1;31m# Add to scene\u001b[0m\u001b[1;33m\u001b[0m\u001b[1;33m\u001b[0m\u001b[1;33m\u001b[0m\u001b[0m\n",
      "\u001b[1;32m<ipython-input-1-d55e0b4b9ed3>\u001b[0m in \u001b[0;36mget_n_random_points_in_region\u001b[1;34m(region, N)\u001b[0m\n\u001b[0;32m     23\u001b[0m     \u001b[0mpts\u001b[0m \u001b[1;33m=\u001b[0m \u001b[1;33m[\u001b[0m\u001b[1;33m[\u001b[0m\u001b[0mx\u001b[0m\u001b[1;33m,\u001b[0m \u001b[0my\u001b[0m\u001b[1;33m,\u001b[0m \u001b[0mz\u001b[0m\u001b[1;33m]\u001b[0m \u001b[1;32mfor\u001b[0m \u001b[0mx\u001b[0m\u001b[1;33m,\u001b[0m \u001b[0my\u001b[0m\u001b[1;33m,\u001b[0m \u001b[0mz\u001b[0m \u001b[1;32min\u001b[0m \u001b[0mzip\u001b[0m\u001b[1;33m(\u001b[0m\u001b[0mX\u001b[0m\u001b[1;33m,\u001b[0m \u001b[0mY\u001b[0m\u001b[1;33m,\u001b[0m \u001b[0mZ\u001b[0m\u001b[1;33m)\u001b[0m\u001b[1;33m]\u001b[0m\u001b[1;33m\u001b[0m\u001b[1;33m\u001b[0m\u001b[0m\n\u001b[0;32m     24\u001b[0m \u001b[1;33m\u001b[0m\u001b[0m\n\u001b[1;32m---> 25\u001b[1;33m     \u001b[0mipts\u001b[0m \u001b[1;33m=\u001b[0m \u001b[0mregion\u001b[0m\u001b[1;33m.\u001b[0m\u001b[0mmesh\u001b[0m\u001b[1;33m.\u001b[0m\u001b[0minside_points\u001b[0m\u001b[1;33m(\u001b[0m\u001b[0mpts\u001b[0m\u001b[1;33m)\u001b[0m\u001b[1;33m.\u001b[0m\u001b[0mvertices\u001b[0m\u001b[1;33m\u001b[0m\u001b[1;33m\u001b[0m\u001b[0m\n\u001b[0m\u001b[0;32m     26\u001b[0m     \u001b[1;32mreturn\u001b[0m \u001b[0mnp\u001b[0m\u001b[1;33m.\u001b[0m\u001b[0mvstack\u001b[0m\u001b[1;33m(\u001b[0m\u001b[0mrandom\u001b[0m\u001b[1;33m.\u001b[0m\u001b[0mchoices\u001b[0m\u001b[1;33m(\u001b[0m\u001b[0mipts\u001b[0m\u001b[1;33m,\u001b[0m \u001b[0mk\u001b[0m\u001b[1;33m=\u001b[0m\u001b[0mN\u001b[0m\u001b[1;33m)\u001b[0m\u001b[1;33m)\u001b[0m\u001b[1;33m\u001b[0m\u001b[1;33m\u001b[0m\u001b[0m\n\u001b[0;32m     27\u001b[0m \u001b[1;33m\u001b[0m\u001b[0m\n",
      "\u001b[1;31mAttributeError\u001b[0m: 'Mesh' object has no attribute 'inside_points'"
     ]
    }
   ],
   "source": [
    "import random\n",
    "from pathlib import Path\n",
    "\n",
    "import numpy as np\n",
    "from myterial import orange\n",
    "from rich import print\n",
    "\n",
    "from brainrender import Scene\n",
    "from brainrender.actors import Points, PointsDensity\n",
    "\n",
    "# print(f\"[{orange}]Running example: {Path(__file__).name}\")\n",
    "\n",
    "\n",
    "def get_n_random_points_in_region(region, N):\n",
    "    \"\"\"\n",
    "    Gets N random points inside (or on the surface) of a mes\n",
    "    \"\"\"\n",
    "\n",
    "    region_bounds = region.mesh.bounds()\n",
    "    X = np.random.randint(region_bounds[0], region_bounds[1], size=10000)\n",
    "    Y = np.random.randint(region_bounds[2], region_bounds[3], size=10000)\n",
    "    Z = np.random.randint(region_bounds[4], region_bounds[5], size=10000)\n",
    "    pts = [[x, y, z] for x, y, z in zip(X, Y, Z)]\n",
    "\n",
    "    ipts = region.mesh.inside_points(pts).vertices\n",
    "    return np.vstack(random.choices(ipts, k=N))\n",
    "\n",
    "\n",
    "scene = Scene(title=\"Labelled cells\")\n",
    "\n",
    "# Get a numpy array with (fake) coordinates of some labelled cells\n",
    "mos = scene.add_brain_region(\"MOs\", alpha=0.0)\n",
    "coordinates = get_n_random_points_in_region(mos, 2000)\n",
    "\n",
    "# Add to scene\n",
    "scene.add(Points(coordinates, name=\"CELLS\", colors=\"salmon\"))\n",
    "scene.add(PointsDensity(coordinates))\n",
    "\n",
    "# render\n",
    "scene.render()"
   ]
  },
  {
   "cell_type": "code",
   "execution_count": 3,
   "id": "d25ffdd8",
   "metadata": {},
   "outputs": [
    {
     "name": "stdout",
     "output_type": "stream",
     "text": [
      "Note: you may need to restart the kernel to use updated packages.\n"
     ]
    },
    {
     "name": "stderr",
     "output_type": "stream",
     "text": [
      "ERROR: Could not find a version that satisfies the requirement brainglobe-heatmap\n",
      "ERROR: No matching distribution found for brainglobe-heatmap\n"
     ]
    }
   ],
   "source": [
    "pip install brainglobe-heatmap"
   ]
  },
  {
   "cell_type": "code",
   "execution_count": 4,
   "id": "f2c0e8c0",
   "metadata": {},
   "outputs": [
    {
     "ename": "ModuleNotFoundError",
     "evalue": "No module named 'brainglobe_heatmap'",
     "output_type": "error",
     "traceback": [
      "\u001b[1;31m---------------------------------------------------------------------------\u001b[0m",
      "\u001b[1;31mModuleNotFoundError\u001b[0m                       Traceback (most recent call last)",
      "\u001b[1;32m<ipython-input-4-d27baa2d3248>\u001b[0m in \u001b[0;36m<module>\u001b[1;34m\u001b[0m\n\u001b[1;32m----> 1\u001b[1;33m \u001b[1;32mimport\u001b[0m \u001b[0mbrainglobe_heatmap\u001b[0m \u001b[1;32mas\u001b[0m \u001b[0mbgh\u001b[0m\u001b[1;33m\u001b[0m\u001b[1;33m\u001b[0m\u001b[0m\n\u001b[0m\u001b[0;32m      2\u001b[0m \u001b[1;33m\u001b[0m\u001b[0m\n\u001b[0;32m      3\u001b[0m \u001b[1;33m\u001b[0m\u001b[0m\n\u001b[0;32m      4\u001b[0m planner = bgh.plan(\n\u001b[0;32m      5\u001b[0m     \u001b[0mregions\u001b[0m\u001b[1;33m,\u001b[0m\u001b[1;33m\u001b[0m\u001b[1;33m\u001b[0m\u001b[0m\n",
      "\u001b[1;31mModuleNotFoundError\u001b[0m: No module named 'brainglobe_heatmap'"
     ]
    }
   ],
   "source": [
    "import brainglobe_heatmap as bgh\n",
    "\n",
    "\n",
    "planner = bgh.plan(\n",
    "    regions,\n",
    "    position=(\n",
    "        8000,\n",
    "        5000,\n",
    "        5000,\n",
    "    ),\n",
    "    orientation=\"frontal\",  # orientation, or 'sagittal', or 'horizontal' or a tuple (x,y,z)\n",
    "    thickness=2000,  # thickness of the slices used for rendering (in microns)\n",
    ")"
   ]
  },
  {
   "cell_type": "code",
   "execution_count": 2,
   "id": "4f985ca7",
   "metadata": {},
   "outputs": [
    {
     "name": "stdout",
     "output_type": "stream",
     "text": [
      "C:\\Users\\Salvo\\Desktop\n"
     ]
    }
   ],
   "source": [
    "cd Desktop/"
   ]
  },
  {
   "cell_type": "code",
   "execution_count": 11,
   "id": "49c4dbbd",
   "metadata": {},
   "outputs": [],
   "source": [
    "import pandas as pd\n",
    "import numpy as np\n",
    "\n",
    "# Read CSV file into a DataFrame\n",
    "df = pd.read_csv('measurements_new.csv')\n",
    "\n",
    "# Convert DataFrame to NumPy array\n",
    "data_array = df.values\n",
    "\n",
    "# Save NumPy array as .npy file\n",
    "np.save('example.npy', data_array)\n"
   ]
  },
  {
   "cell_type": "code",
   "execution_count": 14,
   "id": "bcd7de13",
   "metadata": {},
   "outputs": [
    {
     "name": "stdout",
     "output_type": "stream",
     "text": [
      "C:\\Users\\Salvo\\Desktop\n"
     ]
    }
   ],
   "source": [
    "cd C:\\Users\\Salvo\\Desktop"
   ]
  },
  {
   "cell_type": "code",
   "execution_count": 21,
   "id": "d9cad068",
   "metadata": {},
   "outputs": [
    {
     "name": "stderr",
     "output_type": "stream",
     "text": [
      "WARNING: QWindowsWindow::setGeometry: Unable to set geometry 2172x1310+670+152 (frame: 2194x1366+659+107) on QWidgetWindow/\"_QtMainWindowClassWindow\" on \"\\\\.\\DISPLAY2\". Resulting geometry: 3260x1968+673+166 (frame: 3282x2024+662+121) margins: 11, 45, 11, 11 minimum size: 385x492 MINMAXINFO maxSize=0,0 maxpos=0,0 mintrack=792,1040 maxtrack=0,0)\n"
     ]
    },
    {
     "data": {
      "text/plain": [
       "<Points layer 'ZXY-Mean' at 0x174e4943700>"
      ]
     },
     "execution_count": 21,
     "metadata": {},
     "output_type": "execute_result"
    }
   ],
   "source": [
    "import pandas as pd\n",
    "import numpy as np\n",
    "import napari\n",
    "\n",
    "viewer = napari.Viewer()\n",
    "detections_csv = \"measurements_new.csv\"\n",
    "df = pd.read_csv( detections_csv )\n",
    "#df.shape\n",
    "#df.head()\n",
    "\n",
    "# multiply coordinates by 1000 , order (x,y,z)\n",
    "np_posZXY = np.array( df[['Atlas_X', 'Atlas_Y','Atlas_Z']] , float) * 1000\n",
    "\n",
    "viewer.add_points( np_posZXY , \n",
    "                      size = 50 , \n",
    "                      name = \"ZXY-Mean\" ,\n",
    "                 )\n",
    "# manually open brainrender-napari and the atlas"
   ]
  },
  {
   "cell_type": "code",
   "execution_count": 22,
   "id": "9d17e760",
   "metadata": {},
   "outputs": [
    {
     "name": "stderr",
     "output_type": "stream",
     "text": [
      "WARNING: QWindowsWindow::setGeometry: Unable to set geometry 2172x1310+670+138 (frame: 2194x1366+659+93) on QWidgetWindow/\"_QtMainWindowClassWindow\" on \"\\\\.\\DISPLAY2\". Resulting geometry: 3260x1968+673+152 (frame: 3282x2024+662+107) margins: 11, 45, 11, 11 minimum size: 385x492 MINMAXINFO maxSize=0,0 maxpos=0,0 mintrack=792,1040 maxtrack=0,0)\n"
     ]
    }
   ],
   "source": [
    "viewer = napari.Viewer()"
   ]
  },
  {
   "cell_type": "code",
   "execution_count": 23,
   "id": "40712b6a",
   "metadata": {},
   "outputs": [
    {
     "name": "stdout",
     "output_type": "stream",
     "text": [
      "3.8.8 (default, Apr 13 2021, 15:08:03) [MSC v.1916 64 bit (AMD64)]\n"
     ]
    }
   ],
   "source": [
    "import sys\n",
    "print(sys.version)"
   ]
  },
  {
   "cell_type": "code",
   "execution_count": null,
   "id": "c2dccf6f",
   "metadata": {},
   "outputs": [],
   "source": []
  }
 ],
 "metadata": {
  "kernelspec": {
   "display_name": "Python 3 (ipykernel)",
   "language": "python",
   "name": "python3"
  },
  "language_info": {
   "codemirror_mode": {
    "name": "ipython",
    "version": 3
   },
   "file_extension": ".py",
   "mimetype": "text/x-python",
   "name": "python",
   "nbconvert_exporter": "python",
   "pygments_lexer": "ipython3",
   "version": "3.11.5"
  }
 },
 "nbformat": 4,
 "nbformat_minor": 5
}
